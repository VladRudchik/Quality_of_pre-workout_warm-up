{
 "cells": [
  {
   "cell_type": "code",
   "execution_count": 42,
   "metadata": {
    "collapsed": true,
    "pycharm": {
     "name": "#%%\n"
    }
   },
   "outputs": [],
   "source": [
    "import os\n",
    "import sys\n",
    "\n",
    "import numpy as np\n",
    "import pandas as pd\n",
    "import seaborn as sns\n",
    "import matplotlib.pyplot as plt\n",
    "\n",
    "import plotly\n",
    "import plotly.graph_objs as go\n",
    "import plotly.express as px\n",
    "\n",
    "from scipy.stats import moment, skew, kurtosis\n",
    "\n",
    "from sklearn.preprocessing import StandardScaler\n",
    "from sklearn.model_selection import train_test_split, StratifiedKFold\n",
    "from sklearn.decomposition import PCA\n",
    "from sklearn.metrics import roc_auc_score, f1_score, confusion_matrix\n",
    "\n",
    "from sklearn.neighbors import KNeighborsClassifier\n",
    "from sklearn.linear_model import RidgeClassifierCV\n",
    "from sklearn.ensemble import RandomForestClassifier\n",
    "\n",
    "from catboost import CatBoostClassifier\n",
    "\n",
    "from joblib import dump, load"
   ]
  },
  {
   "cell_type": "markdown",
   "source": [
    "У нас перших 3 строчки файлу це даны про час, налаштування програми та датчик. Щоб правильно зчитати файл скіпнемо їх."
   ],
   "metadata": {
    "collapsed": false,
    "pycharm": {
     "name": "#%% md\n"
    }
   }
  },
  {
   "cell_type": "code",
   "execution_count": 3,
   "outputs": [],
   "source": [
    "def skip_fun(x):\n",
    "    return x in (0, 1, 2)"
   ],
   "metadata": {
    "collapsed": false,
    "pycharm": {
     "name": "#%%\n"
    }
   }
  },
  {
   "cell_type": "code",
   "execution_count": 3,
   "outputs": [],
   "source": [
    "data = pd.read_csv(\"1.txt\", skiprows=skip_fun)"
   ],
   "metadata": {
    "collapsed": false,
    "pycharm": {
     "name": "#%%\n"
    }
   }
  },
  {
   "cell_type": "code",
   "execution_count": 4,
   "outputs": [
    {
     "data": {
      "text/plain": "       Time (s)   X (m/s2)   Y (m/s2)   Z (m/s2)   R (m/s2)   Theta (deg)  \\\n0      0.000000  -0.595281   0.607619   9.569375   9.607106      5.079640   \n1      0.019914  -0.207210   0.569291   9.715501   9.734371      3.568151   \n2      0.039813  -0.398851   0.528567   9.753829   9.776279      3.883730   \n3      0.059726  -0.449156   0.456702   9.842463   9.863285      3.723679   \n4      0.079680  -0.324590   0.463888   9.945469   9.961572      3.258225   \n...         ...        ...        ...        ...        ...           ...   \n4060  80.844734  -4.099898  -1.893283   9.001642  10.070911     26.641977   \n4061  80.864647  -4.028033  -1.847769   9.066320  10.091455     26.049417   \n4062  80.884560  -3.932213  -1.816628   9.078298  10.058723     25.507387   \n4063  80.904480  -4.037615  -1.833396   9.011224  10.043199     26.201551   \n4064  80.924385  -4.018451  -1.840582   8.984874  10.013174     26.193916   \n\n       Phi (deg)  \n0     134.412399  \n1     110.000504  \n2     127.037781  \n3     134.522720  \n4     124.981079  \n...          ...  \n4060  204.786926  \n4061  204.642227  \n4062  204.796280  \n4063  204.421799  \n4064  204.609329  \n\n[4065 rows x 7 columns]",
      "text/html": "<div>\n<style scoped>\n    .dataframe tbody tr th:only-of-type {\n        vertical-align: middle;\n    }\n\n    .dataframe tbody tr th {\n        vertical-align: top;\n    }\n\n    .dataframe thead th {\n        text-align: right;\n    }\n</style>\n<table border=\"1\" class=\"dataframe\">\n  <thead>\n    <tr style=\"text-align: right;\">\n      <th></th>\n      <th>Time (s)</th>\n      <th>X (m/s2)</th>\n      <th>Y (m/s2)</th>\n      <th>Z (m/s2)</th>\n      <th>R (m/s2)</th>\n      <th>Theta (deg)</th>\n      <th>Phi (deg)</th>\n    </tr>\n  </thead>\n  <tbody>\n    <tr>\n      <th>0</th>\n      <td>0.000000</td>\n      <td>-0.595281</td>\n      <td>0.607619</td>\n      <td>9.569375</td>\n      <td>9.607106</td>\n      <td>5.079640</td>\n      <td>134.412399</td>\n    </tr>\n    <tr>\n      <th>1</th>\n      <td>0.019914</td>\n      <td>-0.207210</td>\n      <td>0.569291</td>\n      <td>9.715501</td>\n      <td>9.734371</td>\n      <td>3.568151</td>\n      <td>110.000504</td>\n    </tr>\n    <tr>\n      <th>2</th>\n      <td>0.039813</td>\n      <td>-0.398851</td>\n      <td>0.528567</td>\n      <td>9.753829</td>\n      <td>9.776279</td>\n      <td>3.883730</td>\n      <td>127.037781</td>\n    </tr>\n    <tr>\n      <th>3</th>\n      <td>0.059726</td>\n      <td>-0.449156</td>\n      <td>0.456702</td>\n      <td>9.842463</td>\n      <td>9.863285</td>\n      <td>3.723679</td>\n      <td>134.522720</td>\n    </tr>\n    <tr>\n      <th>4</th>\n      <td>0.079680</td>\n      <td>-0.324590</td>\n      <td>0.463888</td>\n      <td>9.945469</td>\n      <td>9.961572</td>\n      <td>3.258225</td>\n      <td>124.981079</td>\n    </tr>\n    <tr>\n      <th>...</th>\n      <td>...</td>\n      <td>...</td>\n      <td>...</td>\n      <td>...</td>\n      <td>...</td>\n      <td>...</td>\n      <td>...</td>\n    </tr>\n    <tr>\n      <th>4060</th>\n      <td>80.844734</td>\n      <td>-4.099898</td>\n      <td>-1.893283</td>\n      <td>9.001642</td>\n      <td>10.070911</td>\n      <td>26.641977</td>\n      <td>204.786926</td>\n    </tr>\n    <tr>\n      <th>4061</th>\n      <td>80.864647</td>\n      <td>-4.028033</td>\n      <td>-1.847769</td>\n      <td>9.066320</td>\n      <td>10.091455</td>\n      <td>26.049417</td>\n      <td>204.642227</td>\n    </tr>\n    <tr>\n      <th>4062</th>\n      <td>80.884560</td>\n      <td>-3.932213</td>\n      <td>-1.816628</td>\n      <td>9.078298</td>\n      <td>10.058723</td>\n      <td>25.507387</td>\n      <td>204.796280</td>\n    </tr>\n    <tr>\n      <th>4063</th>\n      <td>80.904480</td>\n      <td>-4.037615</td>\n      <td>-1.833396</td>\n      <td>9.011224</td>\n      <td>10.043199</td>\n      <td>26.201551</td>\n      <td>204.421799</td>\n    </tr>\n    <tr>\n      <th>4064</th>\n      <td>80.924385</td>\n      <td>-4.018451</td>\n      <td>-1.840582</td>\n      <td>8.984874</td>\n      <td>10.013174</td>\n      <td>26.193916</td>\n      <td>204.609329</td>\n    </tr>\n  </tbody>\n</table>\n<p>4065 rows × 7 columns</p>\n</div>"
     },
     "execution_count": 4,
     "metadata": {},
     "output_type": "execute_result"
    }
   ],
   "source": [
    "data"
   ],
   "metadata": {
    "collapsed": false,
    "pycharm": {
     "name": "#%%\n"
    }
   }
  },
  {
   "cell_type": "markdown",
   "source": [
    "Наш датасет це дані з аксел та гірос з телефона закріпленого на запясті, під час розминки перед тренуванням.\n",
    "Виконуємо 3 вправи по 15 сек, між ними відпочиваємо по 10 сек."
   ],
   "metadata": {
    "collapsed": false,
    "pycharm": {
     "name": "#%% md\n"
    }
   }
  },
  {
   "cell_type": "code",
   "execution_count": 5,
   "outputs": [],
   "source": [
    "data.rename(columns={\"Time (s)\": \"Time\",\n",
    "                     \" X (m/s2)\": \"X\",\n",
    "                     \" Y (m/s2)\": \"Y\",\n",
    "                     \" Z (m/s2)\": \"Z\",\n",
    "                     \" R (m/s2)\": \"R\",\n",
    "                     \" Theta (deg)\": \"Theta\",\n",
    "                     \" Phi (deg)\": \"Phi\",}, inplace=True)"
   ],
   "metadata": {
    "collapsed": false,
    "pycharm": {
     "name": "#%%\n"
    }
   }
  },
  {
   "cell_type": "code",
   "execution_count": 7,
   "outputs": [],
   "source": [
    "data[\"frec\"] = 1 / data[\"Time\"].diff()"
   ],
   "metadata": {
    "collapsed": false,
    "pycharm": {
     "name": "#%%\n"
    }
   }
  },
  {
   "cell_type": "markdown",
   "source": [
    "Намалюємо наші дані для первиного аналізу."
   ],
   "metadata": {
    "collapsed": false,
    "pycharm": {
     "name": "#%% md\n"
    }
   }
  },
  {
   "cell_type": "code",
   "execution_count": 8,
   "outputs": [
    {
     "data": {
      "text/plain": "           Time         X         Y         Z          R      Theta  \\\n0      0.000000 -0.595281  0.607619  9.569375   9.607106   5.079640   \n1      0.019914 -0.207210  0.569291  9.715501   9.734371   3.568151   \n2      0.039813 -0.398851  0.528567  9.753829   9.776279   3.883730   \n3      0.059726 -0.449156  0.456702  9.842463   9.863285   3.723679   \n4      0.079680 -0.324590  0.463888  9.945469   9.961572   3.258225   \n...         ...       ...       ...       ...        ...        ...   \n4060  80.844734 -4.099898 -1.893283  9.001642  10.070911  26.641977   \n4061  80.864647 -4.028033 -1.847769  9.066320  10.091455  26.049417   \n4062  80.884560 -3.932213 -1.816628  9.078298  10.058723  25.507387   \n4063  80.904480 -4.037615 -1.833396  9.011224  10.043199  26.201551   \n4064  80.924385 -4.018451 -1.840582  8.984874  10.013174  26.193916   \n\n             Phi       frec  \n0     134.412399        NaN  \n1     110.000504  50.216937  \n2     127.037781  50.253529  \n3     134.522720  50.216685  \n4     124.981079  50.117274  \n...          ...        ...  \n4060  204.786926  50.257570  \n4061  204.642227  50.219207  \n4062  204.796280  50.219207  \n4063  204.421799  50.199795  \n4064  204.609329  50.238381  \n\n[4065 rows x 8 columns]",
      "text/html": "<div>\n<style scoped>\n    .dataframe tbody tr th:only-of-type {\n        vertical-align: middle;\n    }\n\n    .dataframe tbody tr th {\n        vertical-align: top;\n    }\n\n    .dataframe thead th {\n        text-align: right;\n    }\n</style>\n<table border=\"1\" class=\"dataframe\">\n  <thead>\n    <tr style=\"text-align: right;\">\n      <th></th>\n      <th>Time</th>\n      <th>X</th>\n      <th>Y</th>\n      <th>Z</th>\n      <th>R</th>\n      <th>Theta</th>\n      <th>Phi</th>\n      <th>frec</th>\n    </tr>\n  </thead>\n  <tbody>\n    <tr>\n      <th>0</th>\n      <td>0.000000</td>\n      <td>-0.595281</td>\n      <td>0.607619</td>\n      <td>9.569375</td>\n      <td>9.607106</td>\n      <td>5.079640</td>\n      <td>134.412399</td>\n      <td>NaN</td>\n    </tr>\n    <tr>\n      <th>1</th>\n      <td>0.019914</td>\n      <td>-0.207210</td>\n      <td>0.569291</td>\n      <td>9.715501</td>\n      <td>9.734371</td>\n      <td>3.568151</td>\n      <td>110.000504</td>\n      <td>50.216937</td>\n    </tr>\n    <tr>\n      <th>2</th>\n      <td>0.039813</td>\n      <td>-0.398851</td>\n      <td>0.528567</td>\n      <td>9.753829</td>\n      <td>9.776279</td>\n      <td>3.883730</td>\n      <td>127.037781</td>\n      <td>50.253529</td>\n    </tr>\n    <tr>\n      <th>3</th>\n      <td>0.059726</td>\n      <td>-0.449156</td>\n      <td>0.456702</td>\n      <td>9.842463</td>\n      <td>9.863285</td>\n      <td>3.723679</td>\n      <td>134.522720</td>\n      <td>50.216685</td>\n    </tr>\n    <tr>\n      <th>4</th>\n      <td>0.079680</td>\n      <td>-0.324590</td>\n      <td>0.463888</td>\n      <td>9.945469</td>\n      <td>9.961572</td>\n      <td>3.258225</td>\n      <td>124.981079</td>\n      <td>50.117274</td>\n    </tr>\n    <tr>\n      <th>...</th>\n      <td>...</td>\n      <td>...</td>\n      <td>...</td>\n      <td>...</td>\n      <td>...</td>\n      <td>...</td>\n      <td>...</td>\n      <td>...</td>\n    </tr>\n    <tr>\n      <th>4060</th>\n      <td>80.844734</td>\n      <td>-4.099898</td>\n      <td>-1.893283</td>\n      <td>9.001642</td>\n      <td>10.070911</td>\n      <td>26.641977</td>\n      <td>204.786926</td>\n      <td>50.257570</td>\n    </tr>\n    <tr>\n      <th>4061</th>\n      <td>80.864647</td>\n      <td>-4.028033</td>\n      <td>-1.847769</td>\n      <td>9.066320</td>\n      <td>10.091455</td>\n      <td>26.049417</td>\n      <td>204.642227</td>\n      <td>50.219207</td>\n    </tr>\n    <tr>\n      <th>4062</th>\n      <td>80.884560</td>\n      <td>-3.932213</td>\n      <td>-1.816628</td>\n      <td>9.078298</td>\n      <td>10.058723</td>\n      <td>25.507387</td>\n      <td>204.796280</td>\n      <td>50.219207</td>\n    </tr>\n    <tr>\n      <th>4063</th>\n      <td>80.904480</td>\n      <td>-4.037615</td>\n      <td>-1.833396</td>\n      <td>9.011224</td>\n      <td>10.043199</td>\n      <td>26.201551</td>\n      <td>204.421799</td>\n      <td>50.199795</td>\n    </tr>\n    <tr>\n      <th>4064</th>\n      <td>80.924385</td>\n      <td>-4.018451</td>\n      <td>-1.840582</td>\n      <td>8.984874</td>\n      <td>10.013174</td>\n      <td>26.193916</td>\n      <td>204.609329</td>\n      <td>50.238381</td>\n    </tr>\n  </tbody>\n</table>\n<p>4065 rows × 8 columns</p>\n</div>"
     },
     "execution_count": 8,
     "metadata": {},
     "output_type": "execute_result"
    }
   ],
   "source": [
    "data"
   ],
   "metadata": {
    "collapsed": false,
    "pycharm": {
     "name": "#%%\n"
    }
   }
  },
  {
   "cell_type": "code",
   "execution_count": 9,
   "outputs": [],
   "source": [
    "trace0 = go.Scatter(x=data[\"Time\"], y=data[\"frec\"], name=\"frec\")\n",
    "trace1 = go.Scatter(x=data[\"Time\"], y=data[\"X\"], name=\"acc_X\")\n",
    "trace2 = go.Scatter(x=data[\"Time\"], y=data[\"Y\"], name=\"acc_Y\")\n",
    "trace3 = go.Scatter(x=data[\"Time\"], y=data[\"Z\"], name=\"acc_Z\")\n",
    "trace4 = go.Scatter(x=data[\"Time\"], y=data[\"R\"], name=\"acc_full\")\n",
    "trace5 = go.Scatter(x=data[\"Time\"], y=data[\"Theta\"], name=\"Theta\")\n",
    "trace6 = go.Scatter(x=data[\"Time\"], y=data[\"Phi\"], name=\"Phi\")\n",
    "\n",
    "\n",
    "data2 = [trace0, trace1, trace2, trace3, trace4, trace5, trace6]\n",
    "layout = {\"title\": \"Залежність прискорення (частоти) датчика від часу\"}\n",
    "\n",
    "fig = go.Figure(data=data2, layout=layout).update_layout(xaxis_title=\"Час (номер точки)\",\n",
    "                                                         yaxis_title=\"Прискорення (або частота чи кут)\",\n",
    "                                                         template='plotly')\n",
    "\n",
    "plotly.offline.plot(fig, filename=\"fit_full_graph_1.html\", show_link=False);"
   ],
   "metadata": {
    "collapsed": false,
    "pycharm": {
     "name": "#%%\n"
    }
   }
  },
  {
   "cell_type": "code",
   "execution_count": 11,
   "outputs": [],
   "source": [
    "for i in range(2, 6):\n",
    "    data_i = pd.read_csv(str(i) + \".txt\", skiprows=skip_fun)\n",
    "\n",
    "    data_i.rename(columns={\"Time (s)\": \"Time\",\n",
    "                         \" X (m/s2)\": \"X\",\n",
    "                         \" Y (m/s2)\": \"Y\",\n",
    "                         \" Z (m/s2)\": \"Z\",\n",
    "                         \" R (m/s2)\": \"R\",\n",
    "                         \" Theta (deg)\": \"Theta\",\n",
    "                         \" Phi (deg)\": \"Phi\", }, inplace=True)\n",
    "    data_i[\"frec\"] = 1 / data_i[\"Time\"].diff()\n",
    "\n",
    "    trace0 = go.Scatter(x=data_i[\"Time\"], y=data_i[\"frec\"], name=\"frec\")\n",
    "    trace1 = go.Scatter(x=data_i[\"Time\"], y=data_i[\"X\"], name=\"acc_X\")\n",
    "    trace2 = go.Scatter(x=data_i[\"Time\"], y=data_i[\"Y\"], name=\"acc_Y\")\n",
    "    trace3 = go.Scatter(x=data_i[\"Time\"], y=data_i[\"Z\"], name=\"acc_Z\")\n",
    "    trace4 = go.Scatter(x=data_i[\"Time\"], y=data_i[\"R\"], name=\"acc_full\")\n",
    "    trace5 = go.Scatter(x=data_i[\"Time\"], y=data_i[\"Theta\"], name=\"Theta\")\n",
    "    trace6 = go.Scatter(x=data_i[\"Time\"], y=data_i[\"Phi\"], name=\"Phi\")\n",
    "\n",
    "\n",
    "    data2 = [trace0, trace1, trace2, trace3, trace4, trace5, trace6]\n",
    "    layout = {\"title\": \"Залежність прискорення (частоти) датчика від часу (file \" + str(i) + \")\"}\n",
    "\n",
    "    fig = go.Figure(data=data2, layout=layout).update_layout(xaxis_title=\"Час (номер точки)\",\n",
    "                                                             yaxis_title=\"Прискорення (або частота чи кут)\",\n",
    "                                                             template='plotly')\n",
    "\n",
    "    plotly.offline.plot(fig, filename=\"fit_full_graph_\" + str(i) + \".html\", show_link=False);"
   ],
   "metadata": {
    "collapsed": false,
    "pycharm": {
     "name": "#%%\n"
    }
   }
  },
  {
   "cell_type": "markdown",
   "source": [
    "С даними, як і очікувалось після минулого разу, все добре, немає недоліків, щодо позитивних частин дивись минулу презентацію. Також цікавим є факт того, що максимальні значення прискорень не вишли за ліміт нашего датчика, але наблизились до нього, з цим потрібно бути обережним.\n",
    "Також можно помітити активності в зоні відпочинку, ми продовжуємо руху руками, що може ускладнити розбиття на окремі сигнали.\n",
    "Також сигнали з деяких колонок дуже корелюють, можливо нам не потрібні деякі з них."
   ],
   "metadata": {
    "collapsed": false,
    "pycharm": {
     "name": "#%% md\n"
    }
   }
  },
  {
   "cell_type": "code",
   "execution_count": 12,
   "outputs": [
    {
     "data": {
      "text/plain": "<AxesSubplot:>"
     },
     "execution_count": 12,
     "metadata": {},
     "output_type": "execute_result"
    },
    {
     "data": {
      "text/plain": "<Figure size 432x288 with 2 Axes>",
      "image/png": "[encoded data removed]"
     },
     "metadata": {},
     "output_type": "display_data"
    }
   ],
   "source": [
    "sns.heatmap(data.corr(), annot=True)"
   ],
   "metadata": {
    "collapsed": false,
    "pycharm": {
     "name": "#%%\n"
    }
   }
  },
  {
   "cell_type": "markdown",
   "source": [
    "А ні, мені просто здалось, поки працюємо з усіма даними."
   ],
   "metadata": {
    "collapsed": false,
    "pycharm": {
     "name": "#%% md\n"
    }
   }
  },
  {
   "cell_type": "markdown",
   "source": [
    "Ок, тепер треба трошки відфільтрувати дані, будемо використовувати медіанний фільтр, бо швидко та гарно, якщо не буде працювати глянемо на Фурьє та інші. Виходячи з характерних частот наших рухів та шумів, вікно буде в діапазоні 4 - 8 точок, а далі виберу на око(\n",
    "Мені сподобалось 5)"
   ],
   "metadata": {
    "collapsed": false,
    "pycharm": {
     "name": "#%% md\n"
    }
   }
  },
  {
   "cell_type": "code",
   "execution_count": 26,
   "outputs": [],
   "source": [
    "data_filt = data.drop(\"frec\", axis=1)\n",
    "\n",
    "for i in [\"X\", \"Y\", \"Z\", \"R\", \"Theta\", \"Phi\"]:\n",
    "    data_filt[i] = data_filt[[i]].rolling(5).mean()\n",
    "    data_filt.loc[range(4), [i]] = data.loc[range(4), [i]]"
   ],
   "metadata": {
    "collapsed": false,
    "pycharm": {
     "name": "#%%\n"
    }
   }
  },
  {
   "cell_type": "code",
   "execution_count": 25,
   "outputs": [],
   "source": [
    "trace1 = go.Scatter(x=data_filt[\"Time\"], y=data_filt[\"X\"], name=\"acc_X\")\n",
    "trace2 = go.Scatter(x=data_filt[\"Time\"], y=data_filt[\"Y\"], name=\"acc_Y\")\n",
    "trace3 = go.Scatter(x=data_filt[\"Time\"], y=data_filt[\"Z\"], name=\"acc_Z\")\n",
    "trace4 = go.Scatter(x=data_filt[\"Time\"], y=data_filt[\"R\"], name=\"acc_full\")\n",
    "trace5 = go.Scatter(x=data_filt[\"Time\"], y=data_filt[\"Theta\"], name=\"Theta\")\n",
    "trace6 = go.Scatter(x=data_filt[\"Time\"], y=data_filt[\"Phi\"], name=\"Phi\")\n",
    "\n",
    "\n",
    "data2 = [trace1, trace2, trace3, trace4, trace5, trace6]\n",
    "layout = {\"title\": \"Залежність прискорення від часу (filt)\"}\n",
    "\n",
    "fig = go.Figure(data=data2, layout=layout).update_layout(xaxis_title=\"Час (номер точки)\",\n",
    "                                                         yaxis_title=\"Прискорення (або частота чи кут)\",\n",
    "                                                         template='plotly')\n",
    "\n",
    "plotly.offline.plot(fig, filename=\"fit_full_filt_graph_1.html\", show_link=False);"
   ],
   "metadata": {
    "collapsed": false,
    "pycharm": {
     "name": "#%%\n"
    }
   }
  },
  {
   "cell_type": "markdown",
   "source": [
    "Я пробував розділювати данні на сигнали за допомогою AffPro навченому на старому дата сеті, як і минулого разу, але тут він відпрацьовує погано, все-таки дуже різні типи активності. Тому придумаємо якісь евристики для розподілу.\n",
    "ОК, Я придумав,так як у нас є зони відпочинку між нашими вправами,то будемо їх шукати. В мене є декілька ідей, рухи під час відпочинку є у діапазоні 7 -- 13, тому будемо йти вікном в 0.5 сек = 25 точок, та дивитися на мінімальне та максимальне значення повного прискорення в вікні."
   ],
   "metadata": {
    "collapsed": false,
    "pycharm": {
     "name": "#%% md\n"
    }
   }
  },
  {
   "cell_type": "code",
   "execution_count": 35,
   "outputs": [],
   "source": [
    "data_filt[\"win_ind\"] = data_filt.index // 25"
   ],
   "metadata": {
    "collapsed": false,
    "pycharm": {
     "name": "#%%\n"
    }
   }
  },
  {
   "cell_type": "code",
   "execution_count": 44,
   "outputs": [],
   "source": [
    "data_win_25 = data_filt.loc[:, [\"R\", \"win_ind\"]]\\\n",
    "    .groupby(\"win_ind\")\\\n",
    "    .aggregate(lambda x: int((x.max() > 15) or (x.min() < 6)))\\\n",
    "    .rename(columns={\"R\": \"Active\"})\\\n",
    "    .reset_index()"
   ],
   "metadata": {
    "collapsed": false,
    "pycharm": {
     "name": "#%%\n"
    }
   }
  },
  {
   "cell_type": "code",
   "execution_count": 46,
   "outputs": [],
   "source": [
    "data_filt = pd.merge(data_filt, data_win_25, how='outer', on='win_ind')"
   ],
   "metadata": {
    "collapsed": false,
    "pycharm": {
     "name": "#%%\n"
    }
   }
  },
  {
   "cell_type": "code",
   "execution_count": 47,
   "outputs": [
    {
     "data": {
      "text/plain": "           Time         X         Y         Z          R      Theta  \\\n0      0.000000 -0.595281  0.607619  9.569375   9.607106   5.079640   \n1      0.019914 -0.207210  0.569291  9.715501   9.734371   3.568151   \n2      0.039813 -0.398851  0.528567  9.753829   9.776279   3.883730   \n3      0.059726 -0.449156  0.456702  9.842463   9.863285   3.723679   \n4      0.079680 -0.395018  0.525213  9.765327   9.788523   3.902685   \n...         ...       ...       ...       ...        ...        ...   \n4060  80.844734 -4.186615 -1.964669  9.110398  10.217471  26.910146   \n4061  80.864647 -4.164097 -1.949817  9.110877  10.206046  26.773685   \n4062  80.884560 -4.076901 -1.908615  9.102253  10.155051  26.310668   \n4063  80.904480 -4.032345 -1.865017  9.055301  10.086699  26.133790   \n4064  80.924385 -4.023242 -1.846332  9.028472  10.055492  26.118850   \n\n             Phi  win_ind  Active  \n0     134.412399        0       0  \n1     110.000504        0       0  \n2     127.037781        0       0  \n3     134.522720        0       0  \n4     126.190897        0       0  \n...          ...      ...     ...  \n4060  205.138663      162       0  \n4061  205.087070      162       0  \n4062  205.077139      162       0  \n4063  204.819324      162       0  \n4064  204.651312      162       0  \n\n[4065 rows x 9 columns]",
      "text/html": "<div>\n<style scoped>\n    .dataframe tbody tr th:only-of-type {\n        vertical-align: middle;\n    }\n\n    .dataframe tbody tr th {\n        vertical-align: top;\n    }\n\n    .dataframe thead th {\n        text-align: right;\n    }\n</style>\n<table border=\"1\" class=\"dataframe\">\n  <thead>\n    <tr style=\"text-align: right;\">\n      <th></th>\n      <th>Time</th>\n      <th>X</th>\n      <th>Y</th>\n      <th>Z</th>\n      <th>R</th>\n      <th>Theta</th>\n      <th>Phi</th>\n      <th>win_ind</th>\n      <th>Active</th>\n    </tr>\n  </thead>\n  <tbody>\n    <tr>\n      <th>0</th>\n      <td>0.000000</td>\n      <td>-0.595281</td>\n      <td>0.607619</td>\n      <td>9.569375</td>\n      <td>9.607106</td>\n      <td>5.079640</td>\n      <td>134.412399</td>\n      <td>0</td>\n      <td>0</td>\n    </tr>\n    <tr>\n      <th>1</th>\n      <td>0.019914</td>\n      <td>-0.207210</td>\n      <td>0.569291</td>\n      <td>9.715501</td>\n      <td>9.734371</td>\n      <td>3.568151</td>\n      <td>110.000504</td>\n      <td>0</td>\n      <td>0</td>\n    </tr>\n    <tr>\n      <th>2</th>\n      <td>0.039813</td>\n      <td>-0.398851</td>\n      <td>0.528567</td>\n      <td>9.753829</td>\n      <td>9.776279</td>\n      <td>3.883730</td>\n      <td>127.037781</td>\n      <td>0</td>\n      <td>0</td>\n    </tr>\n    <tr>\n      <th>3</th>\n      <td>0.059726</td>\n      <td>-0.449156</td>\n      <td>0.456702</td>\n      <td>9.842463</td>\n      <td>9.863285</td>\n      <td>3.723679</td>\n      <td>134.522720</td>\n      <td>0</td>\n      <td>0</td>\n    </tr>\n    <tr>\n      <th>4</th>\n      <td>0.079680</td>\n      <td>-0.395018</td>\n      <td>0.525213</td>\n      <td>9.765327</td>\n      <td>9.788523</td>\n      <td>3.902685</td>\n      <td>126.190897</td>\n      <td>0</td>\n      <td>0</td>\n    </tr>\n    <tr>\n      <th>...</th>\n      <td>...</td>\n      <td>...</td>\n      <td>...</td>\n      <td>...</td>\n      <td>...</td>\n      <td>...</td>\n      <td>...</td>\n      <td>...</td>\n      <td>...</td>\n    </tr>\n    <tr>\n      <th>4060</th>\n      <td>80.844734</td>\n      <td>-4.186615</td>\n      <td>-1.964669</td>\n      <td>9.110398</td>\n      <td>10.217471</td>\n      <td>26.910146</td>\n      <td>205.138663</td>\n      <td>162</td>\n      <td>0</td>\n    </tr>\n    <tr>\n      <th>4061</th>\n      <td>80.864647</td>\n      <td>-4.164097</td>\n      <td>-1.949817</td>\n      <td>9.110877</td>\n      <td>10.206046</td>\n      <td>26.773685</td>\n      <td>205.087070</td>\n      <td>162</td>\n      <td>0</td>\n    </tr>\n    <tr>\n      <th>4062</th>\n      <td>80.884560</td>\n      <td>-4.076901</td>\n      <td>-1.908615</td>\n      <td>9.102253</td>\n      <td>10.155051</td>\n      <td>26.310668</td>\n      <td>205.077139</td>\n      <td>162</td>\n      <td>0</td>\n    </tr>\n    <tr>\n      <th>4063</th>\n      <td>80.904480</td>\n      <td>-4.032345</td>\n      <td>-1.865017</td>\n      <td>9.055301</td>\n      <td>10.086699</td>\n      <td>26.133790</td>\n      <td>204.819324</td>\n      <td>162</td>\n      <td>0</td>\n    </tr>\n    <tr>\n      <th>4064</th>\n      <td>80.924385</td>\n      <td>-4.023242</td>\n      <td>-1.846332</td>\n      <td>9.028472</td>\n      <td>10.055492</td>\n      <td>26.118850</td>\n      <td>204.651312</td>\n      <td>162</td>\n      <td>0</td>\n    </tr>\n  </tbody>\n</table>\n<p>4065 rows × 9 columns</p>\n</div>"
     },
     "execution_count": 47,
     "metadata": {},
     "output_type": "execute_result"
    }
   ],
   "source": [
    "data_filt"
   ],
   "metadata": {
    "collapsed": false,
    "pycharm": {
     "name": "#%%\n"
    }
   }
  },
  {
   "cell_type": "code",
   "execution_count": 48,
   "outputs": [],
   "source": [
    "fig = px.scatter(x=data_filt[\"Time\"],\n",
    "                 y=data_filt[\"R\"],\n",
    "                 color=data_filt[\"Active\"])\\\n",
    "         .update_layout(title=\"Залежність повного прискорення від часу (filt + Active)\",\n",
    "                        xaxis_title=\"Час\",\n",
    "                        yaxis_title=\"Прискорення\",\n",
    "                        template='plotly')\n",
    "\n",
    "plotly.offline.plot(fig, filename=\"fit_R_filt_active_graph_1.html\", show_link=False);"
   ],
   "metadata": {
    "collapsed": false,
    "pycharm": {
     "name": "#%%\n"
    }
   }
  },
  {
   "cell_type": "markdown",
   "source": [
    "ОК тепер коли побачили, що працює розкатимо на всі файли."
   ],
   "metadata": {
    "collapsed": false,
    "pycharm": {
     "name": "#%% md\n"
    }
   }
  },
  {
   "cell_type": "markdown",
   "source": [
    "Зробимо перевірку даних на основні параметри нашого сигналу, які можуть показувати, що з датчиком чи самим сигналом, щось не так, та якщо є проблеми запишемо звіт помилок.\n",
    " На жаль я сходу не зміг придумати багато автоматичних перевірок, які б мали би сенс, але потім можно дописати ще, головне структура.\n",
    "1) Перевірка стабільності частот\n",
    "2) У нас є обмеження на макс. прискорення по 1 осі, це 8g перевіримо його.\n",
    "3) У всіх моїх рухах мені не вдалось розігнатися вище 12g, тому пускай вище 15 це аномалія.\n",
    "4) В мене був баг з стабільністю запису, залишалась лише перша та остання секунда, перевіримо довжину сигналу.\n",
    "5) Средне значення повного прискорення повинне бути рівне g, це з точки зору логіки та фізики, але в мене з датчиком щось не так (на датчиках інших телефонів все було норм і там би можно було встановити поріг на 0.7g - 1.3g), тому поріг 0.5 - 2g."
   ],
   "metadata": {
    "collapsed": false,
    "pycharm": {
     "name": "#%% md\n"
    }
   }
  },
  {
   "cell_type": "code",
   "execution_count": 4,
   "outputs": [],
   "source": [
    "def data_is_cor(df, file_name_in):\n",
    "    df[\"frec\"] = 1 / df[\"Time (s)\"].diff()\n",
    "\n",
    "    errors = []\n",
    "\n",
    "    if any(df[\"frec\"].apply(lambda x: np.abs(x - df[\"frec\"].mean()) > 4)):\n",
    "        errors.append(\"Не стабільна частота\")\n",
    "\n",
    "    if ((df.loc[:, [\" X (m/s2)\", ' Y (m/s2)', \" Z (m/s2)\"]].max()).max() > 80) |\\\n",
    "            ((df.loc[:, [\" X (m/s2)\", ' Y (m/s2)', \" Z (m/s2)\"]].min()).min() < -80):\n",
    "        errors.append(\"Досягнут ліміт датчика по одній осі\")\n",
    "\n",
    "    if df[\" R (m/s2)\"].max() > 150:\n",
    "        errors.append(\"Аномальні прискорення\")\n",
    "\n",
    "    if df.shape[0] < 300:\n",
    "        errors.append(\"Можливо ваш запис був пошкоджений, він надто короткий\")\n",
    "\n",
    "    if not (5 < df[\" R (m/s2)\"].mean() < 20):\n",
    "        errors.append(\"Аномальне середнє прискорення\")\n",
    "\n",
    "    if errors:\n",
    "        file_report_error = open(\"Error report train/Error report {}\".format(file_name_in), \"w\")\n",
    "\n",
    "        original_stdout = sys.stdout\n",
    "        sys.stdout = file_report_error\n",
    "\n",
    "        print(\"Звіт помилок {}\".format(file_name_in[:-4]), \"\", sep=\"\\n\")\n",
    "\n",
    "        errors = \"\\n\".join(errors)\n",
    "        print(\"У вашому файлі наявні такі помолки:\", \"\", errors, sep=\"\\n\")\n",
    "\n",
    "        sys.stdout = original_stdout\n",
    "        file_report_error.close()\n",
    "\n",
    "        return False\n",
    "    else:\n",
    "        return True"
   ],
   "metadata": {
    "collapsed": false,
    "pycharm": {
     "name": "#%%\n"
    }
   }
  },
  {
   "cell_type": "code",
   "execution_count": 5,
   "outputs": [],
   "source": [
    "data = pd.DataFrame()\n",
    "i = 0\n",
    "for file_name in os.listdir(\"train_file\"):\n",
    "# for file_name in [\"Accelerometer Data 2022-08-23 20-37-56.txt\"]:\n",
    "    data_i = pd.read_csv(\"train_file/\" + file_name, skiprows=skip_fun)\n",
    "    if data_is_cor(data_i, file_name):\n",
    "        data_i[\"file_ind\"] = i\n",
    "        data = pd.concat([data, data_i], ignore_index=True)\n",
    "        i += 1\n",
    "data.rename(columns={\"Time (s)\": \"Time\",\n",
    "                     \" X (m/s2)\": \"X\",\n",
    "                     \" Y (m/s2)\": \"Y\",\n",
    "                     \" Z (m/s2)\": \"Z\",\n",
    "                     \" R (m/s2)\": \"R\",\n",
    "                     \" Theta (deg)\": \"Theta\",\n",
    "                     \" Phi (deg)\": \"Phi\",}, inplace=True)\n",
    "\n",
    "data.sort_values(by=[\"file_ind\", \"Time\"], inplace=True)"
   ],
   "metadata": {
    "collapsed": false,
    "pycharm": {
     "name": "#%%\n"
    }
   }
  },
  {
   "cell_type": "markdown",
   "source": [
    "Чогось воно неправильно компанує файли, тому я ввів сортування."
   ],
   "metadata": {
    "collapsed": false,
    "pycharm": {
     "name": "#%% md\n"
    }
   }
  },
  {
   "cell_type": "code",
   "execution_count": 6,
   "outputs": [
    {
     "data": {
      "text/plain": "             Time         X         Y         Z         R      Theta  \\\n0        0.000000 -0.595281  0.607619  9.569375  9.607106   5.079640   \n1        0.019914 -0.207210  0.569291  9.715501  9.734371   3.568151   \n2        0.039813 -0.398851  0.528567  9.753829  9.776279   3.883730   \n3        0.059726 -0.449156  0.456702  9.842463  9.863285   3.723679   \n4        0.079680 -0.324590  0.463888  9.945469  9.961572   3.258225   \n...           ...       ...       ...       ...       ...        ...   \n107974  67.932266 -0.397508  1.945365  9.544670  9.749010  11.751566   \n107975  67.951988 -0.337687  1.911865  9.499207  9.695576  11.551096   \n107976  67.971771 -0.277567  1.897508  9.561420  9.751838  11.341144   \n107977  67.991508 -0.335294  1.899901  9.556635  9.749427  11.413283   \n107978  68.011291 -0.380758  1.834996  9.616755  9.797660  11.027391   \n\n               Phi       frec  file_ind  \n0       134.412399        NaN         0  \n1       110.000504  50.216937         0  \n2       127.037781  50.253529         0  \n3       134.522720  50.216685         0  \n4       124.981079  50.117274         0  \n...            ...        ...       ...  \n107974  101.548599  50.548451        28  \n107975  100.016670  50.704797        28  \n107976   98.322197  50.548451        28  \n107977  100.008492  50.665491        28  \n107978  101.722412  50.548451        28  \n\n[107979 rows x 9 columns]",
      "text/html": "<div>\n<style scoped>\n    .dataframe tbody tr th:only-of-type {\n        vertical-align: middle;\n    }\n\n    .dataframe tbody tr th {\n        vertical-align: top;\n    }\n\n    .dataframe thead th {\n        text-align: right;\n    }\n</style>\n<table border=\"1\" class=\"dataframe\">\n  <thead>\n    <tr style=\"text-align: right;\">\n      <th></th>\n      <th>Time</th>\n      <th>X</th>\n      <th>Y</th>\n      <th>Z</th>\n      <th>R</th>\n      <th>Theta</th>\n      <th>Phi</th>\n      <th>frec</th>\n      <th>file_ind</th>\n    </tr>\n  </thead>\n  <tbody>\n    <tr>\n      <th>0</th>\n      <td>0.000000</td>\n      <td>-0.595281</td>\n      <td>0.607619</td>\n      <td>9.569375</td>\n      <td>9.607106</td>\n      <td>5.079640</td>\n      <td>134.412399</td>\n      <td>NaN</td>\n      <td>0</td>\n    </tr>\n    <tr>\n      <th>1</th>\n      <td>0.019914</td>\n      <td>-0.207210</td>\n      <td>0.569291</td>\n      <td>9.715501</td>\n      <td>9.734371</td>\n      <td>3.568151</td>\n      <td>110.000504</td>\n      <td>50.216937</td>\n      <td>0</td>\n    </tr>\n    <tr>\n      <th>2</th>\n      <td>0.039813</td>\n      <td>-0.398851</td>\n      <td>0.528567</td>\n      <td>9.753829</td>\n      <td>9.776279</td>\n      <td>3.883730</td>\n      <td>127.037781</td>\n      <td>50.253529</td>\n      <td>0</td>\n    </tr>\n    <tr>\n      <th>3</th>\n      <td>0.059726</td>\n      <td>-0.449156</td>\n      <td>0.456702</td>\n      <td>9.842463</td>\n      <td>9.863285</td>\n      <td>3.723679</td>\n      <td>134.522720</td>\n      <td>50.216685</td>\n      <td>0</td>\n    </tr>\n    <tr>\n      <th>4</th>\n      <td>0.079680</td>\n      <td>-0.324590</td>\n      <td>0.463888</td>\n      <td>9.945469</td>\n      <td>9.961572</td>\n      <td>3.258225</td>\n      <td>124.981079</td>\n      <td>50.117274</td>\n      <td>0</td>\n    </tr>\n    <tr>\n      <th>...</th>\n      <td>...</td>\n      <td>...</td>\n      <td>...</td>\n      <td>...</td>\n      <td>...</td>\n      <td>...</td>\n      <td>...</td>\n      <td>...</td>\n      <td>...</td>\n    </tr>\n    <tr>\n      <th>107974</th>\n      <td>67.932266</td>\n      <td>-0.397508</td>\n      <td>1.945365</td>\n      <td>9.544670</td>\n      <td>9.749010</td>\n      <td>11.751566</td>\n      <td>101.548599</td>\n      <td>50.548451</td>\n      <td>28</td>\n    </tr>\n    <tr>\n      <th>107975</th>\n      <td>67.951988</td>\n      <td>-0.337687</td>\n      <td>1.911865</td>\n      <td>9.499207</td>\n      <td>9.695576</td>\n      <td>11.551096</td>\n      <td>100.016670</td>\n      <td>50.704797</td>\n      <td>28</td>\n    </tr>\n    <tr>\n      <th>107976</th>\n      <td>67.971771</td>\n      <td>-0.277567</td>\n      <td>1.897508</td>\n      <td>9.561420</td>\n      <td>9.751838</td>\n      <td>11.341144</td>\n      <td>98.322197</td>\n      <td>50.548451</td>\n      <td>28</td>\n    </tr>\n    <tr>\n      <th>107977</th>\n      <td>67.991508</td>\n      <td>-0.335294</td>\n      <td>1.899901</td>\n      <td>9.556635</td>\n      <td>9.749427</td>\n      <td>11.413283</td>\n      <td>100.008492</td>\n      <td>50.665491</td>\n      <td>28</td>\n    </tr>\n    <tr>\n      <th>107978</th>\n      <td>68.011291</td>\n      <td>-0.380758</td>\n      <td>1.834996</td>\n      <td>9.616755</td>\n      <td>9.797660</td>\n      <td>11.027391</td>\n      <td>101.722412</td>\n      <td>50.548451</td>\n      <td>28</td>\n    </tr>\n  </tbody>\n</table>\n<p>107979 rows × 9 columns</p>\n</div>"
     },
     "execution_count": 6,
     "metadata": {},
     "output_type": "execute_result"
    }
   ],
   "source": [
    "data"
   ],
   "metadata": {
    "collapsed": false,
    "pycharm": {
     "name": "#%%\n"
    }
   }
  },
  {
   "cell_type": "code",
   "execution_count": 7,
   "outputs": [],
   "source": [
    "data_filt = data.copy()\n",
    "\n",
    "for i in [\"X\", \"Y\", \"Z\", \"R\", \"Theta\", \"Phi\"]:\n",
    "    data_filt[i] = data_filt[[i]].rolling(5).mean()\n",
    "    data_filt.loc[range(4), [i]] = data.loc[range(4), [i]]"
   ],
   "metadata": {
    "collapsed": false,
    "pycharm": {
     "name": "#%%\n"
    }
   }
  },
  {
   "cell_type": "code",
   "execution_count": 8,
   "outputs": [],
   "source": [
    "data_filt[\"win_ind\"] = data_filt.index // 25\n",
    "\n",
    "data_win_25 = data_filt.loc[:, [\"R\", \"win_ind\"]]\\\n",
    "    .groupby(\"win_ind\")\\\n",
    "    .aggregate(lambda x: int((x.max() > 13) or (x.min() < 7)))\\\n",
    "    .rename(columns={\"R\": \"Active\"})\\\n",
    "    .reset_index()\n",
    "\n",
    "data_filt = pd.merge(data_filt, data_win_25, how='outer', on='win_ind')"
   ],
   "metadata": {
    "collapsed": false,
    "pycharm": {
     "name": "#%%\n"
    }
   }
  },
  {
   "cell_type": "code",
   "execution_count": 136,
   "outputs": [
    {
     "data": {
      "text/plain": "            Time         X         Y         Z         R     Theta  \\\n0       0.000000 -0.595281  0.607619  9.569375  9.607106  5.079640   \n1       0.019914 -0.207210  0.569291  9.715501  9.734371  3.568151   \n2       0.039813 -0.398851  0.528567  9.753829  9.776279  3.883730   \n3       0.059726 -0.449156  0.456702  9.842463  9.863285  3.723679   \n4       0.079680 -0.395018  0.525213  9.765327  9.788523  3.902685   \n...          ...       ...       ...       ...       ...       ...   \n37566  75.943588 -0.385436  1.071866  9.907141  9.977228  6.786954   \n37567  75.963501 -0.377770  1.034018  9.850128  9.916646  6.604150   \n37568  75.983429 -0.405558  0.969339  9.785928  9.846648  6.272740   \n37569  76.003342 -0.401246  0.888850  9.741851  9.794607  5.831993   \n37570  76.023254 -0.347587  0.840461  9.715022  9.760498  5.458250   \n\n              Phi  file_ind  win_ind  Active  \n0      134.412399         1        0       0  \n1      110.000504         1        0       0  \n2      127.037781         1        0       0  \n3      134.522720         1        0       0  \n4      126.190897         1        0       0  \n...           ...       ...      ...     ...  \n37566  109.300607        10     1502       0  \n37567  109.768500        10     1502       0  \n37568  111.645392        10     1502       0  \n37569  111.987509        10     1502       0  \n37570  110.635609        10     1502       0  \n\n[37571 rows x 10 columns]",
      "text/html": "<div>\n<style scoped>\n    .dataframe tbody tr th:only-of-type {\n        vertical-align: middle;\n    }\n\n    .dataframe tbody tr th {\n        vertical-align: top;\n    }\n\n    .dataframe thead th {\n        text-align: right;\n    }\n</style>\n<table border=\"1\" class=\"dataframe\">\n  <thead>\n    <tr style=\"text-align: right;\">\n      <th></th>\n      <th>Time</th>\n      <th>X</th>\n      <th>Y</th>\n      <th>Z</th>\n      <th>R</th>\n      <th>Theta</th>\n      <th>Phi</th>\n      <th>file_ind</th>\n      <th>win_ind</th>\n      <th>Active</th>\n    </tr>\n  </thead>\n  <tbody>\n    <tr>\n      <th>0</th>\n      <td>0.000000</td>\n      <td>-0.595281</td>\n      <td>0.607619</td>\n      <td>9.569375</td>\n      <td>9.607106</td>\n      <td>5.079640</td>\n      <td>134.412399</td>\n      <td>1</td>\n      <td>0</td>\n      <td>0</td>\n    </tr>\n    <tr>\n      <th>1</th>\n      <td>0.019914</td>\n      <td>-0.207210</td>\n      <td>0.569291</td>\n      <td>9.715501</td>\n      <td>9.734371</td>\n      <td>3.568151</td>\n      <td>110.000504</td>\n      <td>1</td>\n      <td>0</td>\n      <td>0</td>\n    </tr>\n    <tr>\n      <th>2</th>\n      <td>0.039813</td>\n      <td>-0.398851</td>\n      <td>0.528567</td>\n      <td>9.753829</td>\n      <td>9.776279</td>\n      <td>3.883730</td>\n      <td>127.037781</td>\n      <td>1</td>\n      <td>0</td>\n      <td>0</td>\n    </tr>\n    <tr>\n      <th>3</th>\n      <td>0.059726</td>\n      <td>-0.449156</td>\n      <td>0.456702</td>\n      <td>9.842463</td>\n      <td>9.863285</td>\n      <td>3.723679</td>\n      <td>134.522720</td>\n      <td>1</td>\n      <td>0</td>\n      <td>0</td>\n    </tr>\n    <tr>\n      <th>4</th>\n      <td>0.079680</td>\n      <td>-0.395018</td>\n      <td>0.525213</td>\n      <td>9.765327</td>\n      <td>9.788523</td>\n      <td>3.902685</td>\n      <td>126.190897</td>\n      <td>1</td>\n      <td>0</td>\n      <td>0</td>\n    </tr>\n    <tr>\n      <th>...</th>\n      <td>...</td>\n      <td>...</td>\n      <td>...</td>\n      <td>...</td>\n      <td>...</td>\n      <td>...</td>\n      <td>...</td>\n      <td>...</td>\n      <td>...</td>\n      <td>...</td>\n    </tr>\n    <tr>\n      <th>37566</th>\n      <td>75.943588</td>\n      <td>-0.385436</td>\n      <td>1.071866</td>\n      <td>9.907141</td>\n      <td>9.977228</td>\n      <td>6.786954</td>\n      <td>109.300607</td>\n      <td>10</td>\n      <td>1502</td>\n      <td>0</td>\n    </tr>\n    <tr>\n      <th>37567</th>\n      <td>75.963501</td>\n      <td>-0.377770</td>\n      <td>1.034018</td>\n      <td>9.850128</td>\n      <td>9.916646</td>\n      <td>6.604150</td>\n      <td>109.768500</td>\n      <td>10</td>\n      <td>1502</td>\n      <td>0</td>\n    </tr>\n    <tr>\n      <th>37568</th>\n      <td>75.983429</td>\n      <td>-0.405558</td>\n      <td>0.969339</td>\n      <td>9.785928</td>\n      <td>9.846648</td>\n      <td>6.272740</td>\n      <td>111.645392</td>\n      <td>10</td>\n      <td>1502</td>\n      <td>0</td>\n    </tr>\n    <tr>\n      <th>37569</th>\n      <td>76.003342</td>\n      <td>-0.401246</td>\n      <td>0.888850</td>\n      <td>9.741851</td>\n      <td>9.794607</td>\n      <td>5.831993</td>\n      <td>111.987509</td>\n      <td>10</td>\n      <td>1502</td>\n      <td>0</td>\n    </tr>\n    <tr>\n      <th>37570</th>\n      <td>76.023254</td>\n      <td>-0.347587</td>\n      <td>0.840461</td>\n      <td>9.715022</td>\n      <td>9.760498</td>\n      <td>5.458250</td>\n      <td>110.635609</td>\n      <td>10</td>\n      <td>1502</td>\n      <td>0</td>\n    </tr>\n  </tbody>\n</table>\n<p>37571 rows × 10 columns</p>\n</div>"
     },
     "execution_count": 136,
     "metadata": {},
     "output_type": "execute_result"
    }
   ],
   "source": [
    "data_filt"
   ],
   "metadata": {
    "collapsed": false,
    "pycharm": {
     "name": "#%%\n"
    }
   }
  },
  {
   "cell_type": "code",
   "execution_count": 32,
   "outputs": [],
   "source": [
    "fig = px.scatter(x=data_filt.index,\n",
    "                 y=data_filt[\"R\"],\n",
    "                 color=data_filt[\"Active\"])\\\n",
    "    .update_layout(title=\"Залежність повного прискорення від часу (filt + Active)\",\n",
    "                   xaxis_title=\"Номер точки(час)\",\n",
    "                   yaxis_title=\"Прискорення\",\n",
    "                   template='plotly')\n",
    "\n",
    "plotly.offline.plot(fig, filename=\"fit_R_filt_active_graph_full.html\", show_link=False);"
   ],
   "metadata": {
    "collapsed": false,
    "pycharm": {
     "name": "#%%\n"
    }
   }
  },
  {
   "cell_type": "markdown",
   "source": [
    "Як ми бачимо досить гарно виділило сигнали, нажаль в деяких місцях побило і зони спокою, але це не страшно, просто плюс роботи на розмітці й це не як не вплине на алгоритм."
   ],
   "metadata": {
    "collapsed": false,
    "pycharm": {
     "name": "#%% md\n"
    }
   }
  },
  {
   "cell_type": "code",
   "execution_count": 9,
   "outputs": [],
   "source": [
    "data_filt[\"action_index\"] = 0\n",
    "action_ind = 0\n",
    "for i in range(1, data_filt.shape[0]):\n",
    "    if data_filt.loc[i, \"Active\"] != data_filt.loc[i - 1, \"Active\"]:\n",
    "        action_ind += 1\n",
    "    data_filt.loc[i, \"action_index\"] = action_ind"
   ],
   "metadata": {
    "collapsed": false,
    "pycharm": {
     "name": "#%%\n"
    }
   }
  },
  {
   "cell_type": "code",
   "execution_count": 10,
   "outputs": [],
   "source": [
    "fig = px.scatter(x=data_filt.index,\n",
    "                 y=data_filt[\"R\"],\n",
    "                 color=data_filt[\"action_index\"])\\\n",
    "    .update_layout(title=\"Залежність повного прискорення від часу (filt + action)\",\n",
    "                   xaxis_title=\"Номер точки(час)\",\n",
    "                   yaxis_title=\"Прискорення\",\n",
    "                   template='plotly')\n",
    "\n",
    "plotly.offline.plot(fig, filename=\"fit_R_filt_action_graph_full.html\", show_link=False);"
   ],
   "metadata": {
    "collapsed": false,
    "pycharm": {
     "name": "#%%\n"
    }
   }
  },
  {
   "cell_type": "markdown",
   "source": [
    "Час лейбувати дані:\n",
    "0 - спокій\n",
    "1 - Розминка рук\n",
    "2 - Присідання\n",
    "3 - Удари"
   ],
   "metadata": {
    "collapsed": false,
    "pycharm": {
     "name": "#%% md\n"
    }
   }
  },
  {
   "cell_type": "markdown",
   "source": [
    "Можно було би зробити більш красиво та акуратно, через создання масивів індексів для окремих дій і за раз все присвоїти, але так я путався в діях."
   ],
   "metadata": {
    "collapsed": false,
    "pycharm": {
     "name": "#%% md\n"
    }
   }
  },
  {
   "cell_type": "code",
   "execution_count": 11,
   "outputs": [],
   "source": [
    "data_filt[\"real_action\"] = 0\n",
    "\n",
    "data_filt.loc[data_filt[\"action_index\"] == 1, \"real_action\"] = 1\n",
    "data_filt.loc[data_filt[\"action_index\"] == 3, \"real_action\"] = 2\n",
    "data_filt.loc[data_filt[\"action_index\"] == 5, \"real_action\"] = 3\n",
    "data_filt.loc[data_filt[\"action_index\"] == 7, \"real_action\"] = 1\n",
    "data_filt.loc[data_filt[\"action_index\"] == 9, \"real_action\"] = 2\n",
    "data_filt.loc[data_filt[\"action_index\"] == 13, \"real_action\"] = 3\n",
    "data_filt.loc[data_filt[\"action_index\"] == 15, \"real_action\"] = 1\n",
    "data_filt.loc[data_filt[\"action_index\"] == 17, \"real_action\"] = 2\n",
    "data_filt.loc[data_filt[\"action_index\"] == 19, \"real_action\"] = 3\n",
    "data_filt.loc[data_filt[\"action_index\"] == 21, \"real_action\"] = 1\n",
    "data_filt.loc[data_filt[\"action_index\"] == 23, \"real_action\"] = 2\n",
    "data_filt.loc[data_filt[\"action_index\"] == 25, \"real_action\"] = 3\n",
    "data_filt.loc[data_filt[\"action_index\"] == 27, \"real_action\"] = 1\n",
    "data_filt.loc[data_filt[\"action_index\"] == 29, \"real_action\"] = 2\n",
    "data_filt.loc[data_filt[\"action_index\"] == 31, \"real_action\"] = 3\n",
    "\n",
    "data_filt.loc[data_filt[\"action_index\"] == 33, \"real_action\"] = 1\n",
    "data_filt.loc[data_filt[\"action_index\"] == 35, \"real_action\"] = 2\n",
    "data_filt.loc[data_filt[\"action_index\"] == 36, \"real_action\"] = 2\n",
    "data_filt.loc[data_filt[\"action_index\"] == 37, \"real_action\"] = 2\n",
    "data_filt.loc[data_filt[\"action_index\"] == 39, \"real_action\"] = 3\n",
    "data_filt.loc[data_filt[\"action_index\"] == 41, \"real_action\"] = 1\n",
    "data_filt.loc[data_filt[\"action_index\"] == 43, \"real_action\"] = 2\n",
    "data_filt.loc[data_filt[\"action_index\"] == 45, \"real_action\"] = 3\n",
    "data_filt.loc[data_filt[\"action_index\"] == 47, \"real_action\"] = 1\n",
    "data_filt.loc[data_filt[\"action_index\"] == 49, \"real_action\"] = 2\n",
    "data_filt.loc[data_filt[\"action_index\"] == 51, \"real_action\"] = 3\n",
    "data_filt.loc[data_filt[\"action_index\"] == 53, \"real_action\"] = 1\n",
    "data_filt.loc[data_filt[\"action_index\"] == 55, \"real_action\"] = 2\n",
    "data_filt.loc[data_filt[\"action_index\"] == 56, \"real_action\"] = 2\n",
    "data_filt.loc[data_filt[\"action_index\"] == 57, \"real_action\"] = 2\n",
    "data_filt.loc[data_filt[\"action_index\"] == 59, \"real_action\"] = 3\n",
    "data_filt.loc[data_filt[\"action_index\"] == 61, \"real_action\"] = 1\n",
    "data_filt.loc[data_filt[\"action_index\"] == 63, \"real_action\"] = 2\n",
    "data_filt.loc[data_filt[\"action_index\"] == 65, \"real_action\"] = 3\n",
    "\n",
    "data_filt.loc[data_filt[\"action_index\"] == 67, \"real_action\"] = 1\n",
    "data_filt.loc[data_filt[\"action_index\"] == 69, \"real_action\"] = 2\n",
    "data_filt.loc[data_filt[\"action_index\"] == 71, \"real_action\"] = 3\n",
    "data_filt.loc[data_filt[\"action_index\"] == 72, \"real_action\"] = 3\n",
    "data_filt.loc[data_filt[\"action_index\"] == 73, \"real_action\"] = 3\n",
    "data_filt.loc[data_filt[\"action_index\"] == 75, \"real_action\"] = 1\n",
    "data_filt.loc[data_filt[\"action_index\"] == 77, \"real_action\"] = 2\n",
    "data_filt.loc[data_filt[\"action_index\"] == 79, \"real_action\"] = 3\n",
    "data_filt.loc[data_filt[\"action_index\"] == 81, \"real_action\"] = 1\n",
    "data_filt.loc[data_filt[\"action_index\"] == 83, \"real_action\"] = 2\n",
    "data_filt.loc[data_filt[\"action_index\"] == 85, \"real_action\"] = 3\n",
    "data_filt.loc[data_filt[\"action_index\"] == 87, \"real_action\"] = 1\n",
    "data_filt.loc[data_filt[\"action_index\"] == 89, \"real_action\"] = 2\n",
    "data_filt.loc[data_filt[\"action_index\"] == 91, \"real_action\"] = 3\n",
    "data_filt.loc[data_filt[\"action_index\"] == 93, \"real_action\"] = 1\n",
    "data_filt.loc[data_filt[\"action_index\"] == 95, \"real_action\"] = 2\n",
    "data_filt.loc[data_filt[\"action_index\"] == 97, \"real_action\"] = 3\n",
    "data_filt.loc[data_filt[\"action_index\"] == 99, \"real_action\"] = 1\n",
    "data_filt.loc[data_filt[\"action_index\"] == 101, \"real_action\"] = 2\n",
    "data_filt.loc[data_filt[\"action_index\"] == 102, \"real_action\"] = 2\n",
    "data_filt.loc[data_filt[\"action_index\"] == 103, \"real_action\"] = 2\n",
    "data_filt.loc[data_filt[\"action_index\"] == 104, \"real_action\"] = 2\n",
    "data_filt.loc[data_filt[\"action_index\"] == 105, \"real_action\"] = 2\n",
    "data_filt.loc[data_filt[\"action_index\"] == 107, \"real_action\"] = 3\n",
    "data_filt.loc[data_filt[\"action_index\"] == 109, \"real_action\"] = 1\n",
    "data_filt.loc[data_filt[\"action_index\"] == 110, \"real_action\"] = 1\n",
    "data_filt.loc[data_filt[\"action_index\"] == 111, \"real_action\"] = 1\n",
    "data_filt.loc[data_filt[\"action_index\"] == 113, \"real_action\"] = 2\n",
    "data_filt.loc[data_filt[\"action_index\"] == 115, \"real_action\"] = 3\n",
    "\n",
    "data_filt.loc[data_filt[\"action_index\"] == 117, \"real_action\"] = 1\n",
    "data_filt.loc[data_filt[\"action_index\"] == 119, \"real_action\"] = 2\n",
    "data_filt.loc[data_filt[\"action_index\"] == 121, \"real_action\"] = 3\n",
    "data_filt.loc[data_filt[\"action_index\"] == 123, \"real_action\"] = 1\n",
    "data_filt.loc[data_filt[\"action_index\"] == 125, \"real_action\"] = 2\n",
    "data_filt.loc[data_filt[\"action_index\"] == 127, \"real_action\"] = 3\n",
    "data_filt.loc[data_filt[\"action_index\"] == 129, \"real_action\"] = 1\n",
    "data_filt.loc[data_filt[\"action_index\"] == 131, \"real_action\"] = 2\n",
    "data_filt.loc[data_filt[\"action_index\"] == 133, \"real_action\"] = 3\n",
    "data_filt.loc[data_filt[\"action_index\"] == 135, \"real_action\"] = 1\n",
    "data_filt.loc[data_filt[\"action_index\"] == 137, \"real_action\"] = 2\n",
    "data_filt.loc[data_filt[\"action_index\"] == 138, \"real_action\"] = 2\n",
    "data_filt.loc[data_filt[\"action_index\"] == 139, \"real_action\"] = 2\n",
    "data_filt.loc[data_filt[\"action_index\"] == 140, \"real_action\"] = 2\n",
    "data_filt.loc[data_filt[\"action_index\"] == 141, \"real_action\"] = 2\n",
    "data_filt.loc[data_filt[\"action_index\"] == 142, \"real_action\"] = 2\n",
    "data_filt.loc[data_filt[\"action_index\"] == 143, \"real_action\"] = 2\n",
    "data_filt.loc[data_filt[\"action_index\"] == 144, \"real_action\"] = 2\n",
    "data_filt.loc[data_filt[\"action_index\"] == 145, \"real_action\"] = 2\n",
    "data_filt.loc[data_filt[\"action_index\"] == 146, \"real_action\"] = 2\n",
    "data_filt.loc[data_filt[\"action_index\"] == 147, \"real_action\"] = 2\n",
    "data_filt.loc[data_filt[\"action_index\"] == 149, \"real_action\"] = 3\n",
    "data_filt.loc[data_filt[\"action_index\"] == 151, \"real_action\"] = 1\n",
    "data_filt.loc[data_filt[\"action_index\"] == 153, \"real_action\"] = 2\n",
    "data_filt.loc[data_filt[\"action_index\"] == 154, \"real_action\"] = 2\n",
    "data_filt.loc[data_filt[\"action_index\"] == 155, \"real_action\"] = 2\n",
    "data_filt.loc[data_filt[\"action_index\"] == 156, \"real_action\"] = 2\n",
    "data_filt.loc[data_filt[\"action_index\"] == 157, \"real_action\"] = 2\n",
    "data_filt.loc[data_filt[\"action_index\"] == 159, \"real_action\"] = 3\n",
    "data_filt.loc[data_filt[\"action_index\"] == 161, \"real_action\"] = 1\n",
    "data_filt.loc[data_filt[\"action_index\"] == 163, \"real_action\"] = 2\n",
    "data_filt.loc[data_filt[\"action_index\"] == 164, \"real_action\"] = 2\n",
    "data_filt.loc[data_filt[\"action_index\"] == 165, \"real_action\"] = 2\n",
    "data_filt.loc[data_filt[\"action_index\"] == 166, \"real_action\"] = 2\n",
    "data_filt.loc[data_filt[\"action_index\"] == 167, \"real_action\"] = 2\n",
    "data_filt.loc[data_filt[\"action_index\"] == 169, \"real_action\"] = 3\n",
    "data_filt.loc[data_filt[\"action_index\"] == 171, \"real_action\"] = 1\n",
    "data_filt.loc[data_filt[\"action_index\"] == 172, \"real_action\"] = 1\n",
    "data_filt.loc[data_filt[\"action_index\"] == 173, \"real_action\"] = 1\n",
    "data_filt.loc[data_filt[\"action_index\"] == 175, \"real_action\"] = 2\n",
    "data_filt.loc[data_filt[\"action_index\"] == 177, \"real_action\"] = 3\n",
    "\n",
    "data_filt.loc[data_filt[\"action_index\"] == 179, \"real_action\"] = 1\n",
    "data_filt.loc[data_filt[\"action_index\"] == 181, \"real_action\"] = 2\n",
    "data_filt.loc[data_filt[\"action_index\"] == 183, \"real_action\"] = 3\n",
    "data_filt.loc[data_filt[\"action_index\"] == 185, \"real_action\"] = 1\n",
    "data_filt.loc[data_filt[\"action_index\"] == 187, \"real_action\"] = 2\n",
    "data_filt.loc[data_filt[\"action_index\"] == 189, \"real_action\"] = 3\n",
    "data_filt.loc[data_filt[\"action_index\"] == 191, \"real_action\"] = 1\n",
    "data_filt.loc[data_filt[\"action_index\"] == 193, \"real_action\"] = 2\n",
    "data_filt.loc[data_filt[\"action_index\"] == 195, \"real_action\"] = 3\n",
    "data_filt.loc[data_filt[\"action_index\"] == 197, \"real_action\"] = 1\n",
    "data_filt.loc[data_filt[\"action_index\"] == 199, \"real_action\"] = 2\n",
    "data_filt.loc[data_filt[\"action_index\"] == 201, \"real_action\"] = 3\n",
    "data_filt.loc[data_filt[\"action_index\"] == 205, \"real_action\"] = 1\n",
    "data_filt.loc[data_filt[\"action_index\"] == 207, \"real_action\"] = 2\n",
    "data_filt.loc[data_filt[\"action_index\"] == 209, \"real_action\"] = 3"
   ],
   "metadata": {
    "collapsed": false,
    "pycharm": {
     "name": "#%%\n"
    }
   }
  },
  {
   "cell_type": "markdown",
   "source": [
    "Воу, коли сигнал поділений на окремі дії, лейбувати дані виходить дуже швидко та легко."
   ],
   "metadata": {
    "collapsed": false,
    "pycharm": {
     "name": "#%% md\n"
    }
   }
  },
  {
   "cell_type": "code",
   "execution_count": 115,
   "outputs": [],
   "source": [
    "fig = px.scatter(x=data_filt.index,\n",
    "                 y=data_filt[\"R\"],\n",
    "                 color=data_filt[\"real_action\"])\\\n",
    "    .update_layout(title=\"Залежність повного прискорення від часу (real action)\",\n",
    "                   xaxis_title=\"Номер точки(час)\",\n",
    "                   yaxis_title=\"Прискорення\",\n",
    "                   template='plotly')\n",
    "\n",
    "plotly.offline.plot(fig, filename=\"fit_R_real_action.html\", show_link=False);"
   ],
   "metadata": {
    "collapsed": false,
    "pycharm": {
     "name": "#%%\n"
    }
   }
  },
  {
   "cell_type": "markdown",
   "source": [
    "Так тепер потрібно порахувати фічі для кожного імпульсу та створити дата сет для тренування.\n",
    "В якості фіч для навчання ми будемо використовувати набір статистичних метрик: мін, макс, середне, стат моменти, квантілі і тд. Для кутових даних деякі фічі не мають глузду (у минулі рази вони були зайві), тому не будемо їх рахувати."
   ],
   "metadata": {
    "collapsed": false,
    "pycharm": {
     "name": "#%% md\n"
    }
   }
  },
  {
   "cell_type": "markdown",
   "source": [
    "Також хотілось би додати декілька частотних фіч,наприклад основної частоти та її долі в сигналі, а токож кількості перетинів сигналу з середнім. Реалізуємо останню (фун n_cross), а до частотних фіч можно буде повернутися пізніше."
   ],
   "metadata": {
    "collapsed": false,
    "pycharm": {
     "name": "#%% md\n"
    }
   }
  },
  {
   "cell_type": "code",
   "execution_count": 11,
   "outputs": [
    {
     "data": {
      "text/plain": "            Time         X         Y         Z         R     Theta  \\\n0       0.000000 -0.595281  0.607619  9.569375  9.607106  5.079640   \n1       0.019914 -0.207210  0.569291  9.715501  9.734371  3.568151   \n2       0.039813 -0.398851  0.528567  9.753829  9.776279  3.883730   \n3       0.059726 -0.449156  0.456702  9.842463  9.863285  3.723679   \n4       0.079680 -0.395018  0.525213  9.765327  9.788523  3.902685   \n...          ...       ...       ...       ...       ...       ...   \n37566  75.943588 -0.385436  1.071866  9.907141  9.977228  6.786954   \n37567  75.963501 -0.377770  1.034018  9.850128  9.916646  6.604150   \n37568  75.983429 -0.405558  0.969339  9.785928  9.846648  6.272740   \n37569  76.003342 -0.401246  0.888850  9.741851  9.794607  5.831993   \n37570  76.023254 -0.347587  0.840461  9.715022  9.760498  5.458250   \n\n              Phi  file_ind  win_ind  Active  action_index  real_action  \n0      134.412399         1        0       0             0            0  \n1      110.000504         1        0       0             0            0  \n2      127.037781         1        0       0             0            0  \n3      134.522720         1        0       0             0            0  \n4      126.190897         1        0       0             0            0  \n...           ...       ...      ...     ...           ...          ...  \n37566  109.300607        10     1502       0            66            0  \n37567  109.768500        10     1502       0            66            0  \n37568  111.645392        10     1502       0            66            0  \n37569  111.987509        10     1502       0            66            0  \n37570  110.635609        10     1502       0            66            0  \n\n[37571 rows x 12 columns]",
      "text/html": "<div>\n<style scoped>\n    .dataframe tbody tr th:only-of-type {\n        vertical-align: middle;\n    }\n\n    .dataframe tbody tr th {\n        vertical-align: top;\n    }\n\n    .dataframe thead th {\n        text-align: right;\n    }\n</style>\n<table border=\"1\" class=\"dataframe\">\n  <thead>\n    <tr style=\"text-align: right;\">\n      <th></th>\n      <th>Time</th>\n      <th>X</th>\n      <th>Y</th>\n      <th>Z</th>\n      <th>R</th>\n      <th>Theta</th>\n      <th>Phi</th>\n      <th>file_ind</th>\n      <th>win_ind</th>\n      <th>Active</th>\n      <th>action_index</th>\n      <th>real_action</th>\n    </tr>\n  </thead>\n  <tbody>\n    <tr>\n      <th>0</th>\n      <td>0.000000</td>\n      <td>-0.595281</td>\n      <td>0.607619</td>\n      <td>9.569375</td>\n      <td>9.607106</td>\n      <td>5.079640</td>\n      <td>134.412399</td>\n      <td>1</td>\n      <td>0</td>\n      <td>0</td>\n      <td>0</td>\n      <td>0</td>\n    </tr>\n    <tr>\n      <th>1</th>\n      <td>0.019914</td>\n      <td>-0.207210</td>\n      <td>0.569291</td>\n      <td>9.715501</td>\n      <td>9.734371</td>\n      <td>3.568151</td>\n      <td>110.000504</td>\n      <td>1</td>\n      <td>0</td>\n      <td>0</td>\n      <td>0</td>\n      <td>0</td>\n    </tr>\n    <tr>\n      <th>2</th>\n      <td>0.039813</td>\n      <td>-0.398851</td>\n      <td>0.528567</td>\n      <td>9.753829</td>\n      <td>9.776279</td>\n      <td>3.883730</td>\n      <td>127.037781</td>\n      <td>1</td>\n      <td>0</td>\n      <td>0</td>\n      <td>0</td>\n      <td>0</td>\n    </tr>\n    <tr>\n      <th>3</th>\n      <td>0.059726</td>\n      <td>-0.449156</td>\n      <td>0.456702</td>\n      <td>9.842463</td>\n      <td>9.863285</td>\n      <td>3.723679</td>\n      <td>134.522720</td>\n      <td>1</td>\n      <td>0</td>\n      <td>0</td>\n      <td>0</td>\n      <td>0</td>\n    </tr>\n    <tr>\n      <th>4</th>\n      <td>0.079680</td>\n      <td>-0.395018</td>\n      <td>0.525213</td>\n      <td>9.765327</td>\n      <td>9.788523</td>\n      <td>3.902685</td>\n      <td>126.190897</td>\n      <td>1</td>\n      <td>0</td>\n      <td>0</td>\n      <td>0</td>\n      <td>0</td>\n    </tr>\n    <tr>\n      <th>...</th>\n      <td>...</td>\n      <td>...</td>\n      <td>...</td>\n      <td>...</td>\n      <td>...</td>\n      <td>...</td>\n      <td>...</td>\n      <td>...</td>\n      <td>...</td>\n      <td>...</td>\n      <td>...</td>\n      <td>...</td>\n    </tr>\n    <tr>\n      <th>37566</th>\n      <td>75.943588</td>\n      <td>-0.385436</td>\n      <td>1.071866</td>\n      <td>9.907141</td>\n      <td>9.977228</td>\n      <td>6.786954</td>\n      <td>109.300607</td>\n      <td>10</td>\n      <td>1502</td>\n      <td>0</td>\n      <td>66</td>\n      <td>0</td>\n    </tr>\n    <tr>\n      <th>37567</th>\n      <td>75.963501</td>\n      <td>-0.377770</td>\n      <td>1.034018</td>\n      <td>9.850128</td>\n      <td>9.916646</td>\n      <td>6.604150</td>\n      <td>109.768500</td>\n      <td>10</td>\n      <td>1502</td>\n      <td>0</td>\n      <td>66</td>\n      <td>0</td>\n    </tr>\n    <tr>\n      <th>37568</th>\n      <td>75.983429</td>\n      <td>-0.405558</td>\n      <td>0.969339</td>\n      <td>9.785928</td>\n      <td>9.846648</td>\n      <td>6.272740</td>\n      <td>111.645392</td>\n      <td>10</td>\n      <td>1502</td>\n      <td>0</td>\n      <td>66</td>\n      <td>0</td>\n    </tr>\n    <tr>\n      <th>37569</th>\n      <td>76.003342</td>\n      <td>-0.401246</td>\n      <td>0.888850</td>\n      <td>9.741851</td>\n      <td>9.794607</td>\n      <td>5.831993</td>\n      <td>111.987509</td>\n      <td>10</td>\n      <td>1502</td>\n      <td>0</td>\n      <td>66</td>\n      <td>0</td>\n    </tr>\n    <tr>\n      <th>37570</th>\n      <td>76.023254</td>\n      <td>-0.347587</td>\n      <td>0.840461</td>\n      <td>9.715022</td>\n      <td>9.760498</td>\n      <td>5.458250</td>\n      <td>110.635609</td>\n      <td>10</td>\n      <td>1502</td>\n      <td>0</td>\n      <td>66</td>\n      <td>0</td>\n    </tr>\n  </tbody>\n</table>\n<p>37571 rows × 12 columns</p>\n</div>"
     },
     "execution_count": 11,
     "metadata": {},
     "output_type": "execute_result"
    }
   ],
   "source": [
    "data_filt"
   ],
   "metadata": {
    "collapsed": false,
    "pycharm": {
     "name": "#%%\n"
    }
   }
  },
  {
   "cell_type": "code",
   "execution_count": 12,
   "outputs": [],
   "source": [
    "def n_cross(x):\n",
    "    x_del = x - x.mean()\n",
    "    return (np.diff(np.sign(x_del)) != 0).sum()"
   ],
   "metadata": {
    "collapsed": false,
    "pycharm": {
     "name": "#%%\n"
    }
   }
  },
  {
   "cell_type": "code",
   "execution_count": 20,
   "outputs": [
    {
     "name": "stdout",
     "output_type": "stream",
     "text": [
      "3\n"
     ]
    }
   ],
   "source": [
    "tata = pd.Series([1, 3, 1, 3])\n",
    "print(n_cross(tata))"
   ],
   "metadata": {
    "collapsed": false,
    "pycharm": {
     "name": "#%%\n"
    }
   }
  },
  {
   "cell_type": "code",
   "execution_count": 13,
   "outputs": [],
   "source": [
    "data_feature_acc = data_filt.loc[:, [\"X\", \"Y\", \"Z\", \"R\", \"action_index\"]]\\\n",
    "    .groupby(\"action_index\").aggregate([\n",
    "    lambda x: x.mean(),\n",
    "    lambda x: x.std(),\n",
    "    lambda x: x.max(),\n",
    "    lambda x: x.min(),\n",
    "    lambda x: x.std() / x.mean(),\n",
    "    lambda x: np.percentile(x, 25),\n",
    "    lambda x: np.percentile(x, 50),\n",
    "    lambda x: np.percentile(x, 75),\n",
    "    lambda x: moment(x, moment=3),\n",
    "    lambda x: moment(x, moment=4),\n",
    "    lambda x: skew(x),\n",
    "    lambda x: kurtosis(x),\n",
    "    lambda x: n_cross(x)])\n",
    "\n",
    "data_feature_acc = data_feature_acc.T.reset_index().T.drop([\"level_0\", \"level_1\"])\n",
    "data_feature_acc = data_feature_acc.apply(lambda x: x.astype(float))"
   ],
   "metadata": {
    "collapsed": false,
    "pycharm": {
     "name": "#%%\n"
    }
   }
  },
  {
   "cell_type": "code",
   "execution_count": 14,
   "outputs": [],
   "source": [
    "data_feature_cor = data_filt.loc[:, [\"Theta\", \"Phi\", \"action_index\"]]\\\n",
    "    .groupby(\"action_index\").aggregate([\n",
    "    lambda x: x.mean(),\n",
    "    lambda x: x.std(),\n",
    "    lambda x: x.max(),\n",
    "    lambda x: x.min(),\n",
    "    lambda x: x.std() / x.mean(),\n",
    "    lambda x: np.percentile(x, 25),\n",
    "    lambda x: np.percentile(x, 50),\n",
    "    lambda x: np.percentile(x, 75)])\n",
    "\n",
    "data_feature_cor = data_feature_cor.T.reset_index().T.drop([\"level_0\", \"level_1\"])\n",
    "data_feature_cor = data_feature_cor.apply(lambda x: x.astype(float))"
   ],
   "metadata": {
    "collapsed": false,
    "pycharm": {
     "name": "#%%\n"
    }
   }
  },
  {
   "cell_type": "code",
   "execution_count": 15,
   "outputs": [],
   "source": [
    "data_feature_acc.reset_index(inplace=True)\n",
    "data_feature_cor.reset_index(inplace=True)\n",
    "data_feature = pd.merge(data_feature_acc, data_feature_cor, on=\"action_index\")\n",
    "data_feature.drop(\"action_index\", axis=1, inplace=True)"
   ],
   "metadata": {
    "collapsed": false,
    "pycharm": {
     "name": "#%%\n"
    }
   }
  },
  {
   "cell_type": "code",
   "execution_count": 16,
   "outputs": [
    {
     "data": {
      "text/plain": "          0_x       1_x        2_x        3_x       4_x       5_x       6_x  \\\n0   -1.132065  0.225411  -0.207210  -1.379568 -0.199115 -1.255721 -1.192719   \n1   -4.049050  8.500878   9.791606 -33.630664 -2.099474 -8.676621 -1.142893   \n2   -1.294659  0.501115   2.493955  -3.501981 -0.387063 -1.469160 -1.381005   \n3   -5.066322  5.799340  12.120991 -27.477104 -1.144684 -8.597090 -6.212969   \n4   -2.389564  0.461623   0.842977  -4.693024 -0.193183 -2.524377 -2.435025   \n..        ...       ...        ...        ...       ...       ...       ...   \n206 -1.491092  0.513711   1.488336  -2.299024 -0.344520 -1.766262 -1.617967   \n207  2.490317  2.914248  12.193286  -8.432427  1.170232  1.112902  2.142055   \n208 -1.723131  0.301992  -0.560339  -4.282913 -0.175258 -1.863635 -1.741107   \n209 -0.679511  6.592114  20.478793 -28.328508 -9.701261 -4.674364 -0.438455   \n210 -0.417548  0.595781   1.355953  -5.043771 -1.426856 -0.454711 -0.355095   \n\n          7_x         8_x           9_x  ...        6_y        7_y  \\\n0   -1.109356    0.025164      0.019325  ...   8.243245   8.525454   \n1    2.150560 -549.170594  15216.308763  ...  79.058659  96.709213   \n2   -1.208530    0.352105      1.662641  ...  83.121692  83.805412   \n3   -1.088754   79.001987   3838.029642  ...  72.160766  82.392462   \n4   -2.346751    0.222134      1.124650  ...  79.801010  80.360733   \n..        ...         ...           ...  ...        ...        ...   \n206 -1.419841    0.371776      0.891749  ...  42.764000  44.001992   \n207  3.704613    2.611459    354.458953  ...  33.226567  38.692875   \n208 -1.619522   -0.034372      0.166116  ...  38.467897  39.273546   \n209  2.952608  -43.065887   7857.236266  ...  54.255855  71.409820   \n210 -0.270344   -0.985606      4.610003  ...  11.570768  12.685184   \n\n            8_y        9_y        10_y        11_y      12_y        13_y  \\\n0    145.233652   5.554249  150.925360  110.000504  0.038244  144.512062   \n1    262.034373  24.096394  316.716949  103.456973  0.091959  250.043845   \n2    262.300551   2.951697  284.726611  250.221582  0.011253  261.263727   \n3    198.640619  67.786006  284.473416   33.911350  0.341249  173.127518   \n4    255.669613   2.616806  274.883374  244.746112  0.010235  254.803201   \n..          ...        ...         ...         ...       ...         ...   \n206  256.903656   4.300709  280.961005  251.391464  0.016741  254.611789   \n207   78.538578  58.359836  322.455487   23.149829  0.743072   49.164691   \n208  253.484340   2.639728  264.198181  233.915723  0.010414  252.144575   \n209  145.163642  74.005945  342.416363   25.721074  0.509810   86.287236   \n210  103.730341  14.631643  194.144153   77.275409  0.141055   98.335819   \n\n           14_y        15_y  \n0    146.596765  148.599144  \n1    266.071129  277.175999  \n2    261.776062  262.779443  \n3    230.648912  246.872172  \n4    255.341295  255.885238  \n..          ...         ...  \n206  255.869731  257.353463  \n207   58.731247   76.647411  \n208  253.200856  254.257229  \n209  120.820849  206.052697  \n210  100.386283  102.982938  \n\n[211 rows x 68 columns]",
      "text/html": "<div>\n<style scoped>\n    .dataframe tbody tr th:only-of-type {\n        vertical-align: middle;\n    }\n\n    .dataframe tbody tr th {\n        vertical-align: top;\n    }\n\n    .dataframe thead th {\n        text-align: right;\n    }\n</style>\n<table border=\"1\" class=\"dataframe\">\n  <thead>\n    <tr style=\"text-align: right;\">\n      <th></th>\n      <th>0_x</th>\n      <th>1_x</th>\n      <th>2_x</th>\n      <th>3_x</th>\n      <th>4_x</th>\n      <th>5_x</th>\n      <th>6_x</th>\n      <th>7_x</th>\n      <th>8_x</th>\n      <th>9_x</th>\n      <th>...</th>\n      <th>6_y</th>\n      <th>7_y</th>\n      <th>8_y</th>\n      <th>9_y</th>\n      <th>10_y</th>\n      <th>11_y</th>\n      <th>12_y</th>\n      <th>13_y</th>\n      <th>14_y</th>\n      <th>15_y</th>\n    </tr>\n  </thead>\n  <tbody>\n    <tr>\n      <th>0</th>\n      <td>-1.132065</td>\n      <td>0.225411</td>\n      <td>-0.207210</td>\n      <td>-1.379568</td>\n      <td>-0.199115</td>\n      <td>-1.255721</td>\n      <td>-1.192719</td>\n      <td>-1.109356</td>\n      <td>0.025164</td>\n      <td>0.019325</td>\n      <td>...</td>\n      <td>8.243245</td>\n      <td>8.525454</td>\n      <td>145.233652</td>\n      <td>5.554249</td>\n      <td>150.925360</td>\n      <td>110.000504</td>\n      <td>0.038244</td>\n      <td>144.512062</td>\n      <td>146.596765</td>\n      <td>148.599144</td>\n    </tr>\n    <tr>\n      <th>1</th>\n      <td>-4.049050</td>\n      <td>8.500878</td>\n      <td>9.791606</td>\n      <td>-33.630664</td>\n      <td>-2.099474</td>\n      <td>-8.676621</td>\n      <td>-1.142893</td>\n      <td>2.150560</td>\n      <td>-549.170594</td>\n      <td>15216.308763</td>\n      <td>...</td>\n      <td>79.058659</td>\n      <td>96.709213</td>\n      <td>262.034373</td>\n      <td>24.096394</td>\n      <td>316.716949</td>\n      <td>103.456973</td>\n      <td>0.091959</td>\n      <td>250.043845</td>\n      <td>266.071129</td>\n      <td>277.175999</td>\n    </tr>\n    <tr>\n      <th>2</th>\n      <td>-1.294659</td>\n      <td>0.501115</td>\n      <td>2.493955</td>\n      <td>-3.501981</td>\n      <td>-0.387063</td>\n      <td>-1.469160</td>\n      <td>-1.381005</td>\n      <td>-1.208530</td>\n      <td>0.352105</td>\n      <td>1.662641</td>\n      <td>...</td>\n      <td>83.121692</td>\n      <td>83.805412</td>\n      <td>262.300551</td>\n      <td>2.951697</td>\n      <td>284.726611</td>\n      <td>250.221582</td>\n      <td>0.011253</td>\n      <td>261.263727</td>\n      <td>261.776062</td>\n      <td>262.779443</td>\n    </tr>\n    <tr>\n      <th>3</th>\n      <td>-5.066322</td>\n      <td>5.799340</td>\n      <td>12.120991</td>\n      <td>-27.477104</td>\n      <td>-1.144684</td>\n      <td>-8.597090</td>\n      <td>-6.212969</td>\n      <td>-1.088754</td>\n      <td>79.001987</td>\n      <td>3838.029642</td>\n      <td>...</td>\n      <td>72.160766</td>\n      <td>82.392462</td>\n      <td>198.640619</td>\n      <td>67.786006</td>\n      <td>284.473416</td>\n      <td>33.911350</td>\n      <td>0.341249</td>\n      <td>173.127518</td>\n      <td>230.648912</td>\n      <td>246.872172</td>\n    </tr>\n    <tr>\n      <th>4</th>\n      <td>-2.389564</td>\n      <td>0.461623</td>\n      <td>0.842977</td>\n      <td>-4.693024</td>\n      <td>-0.193183</td>\n      <td>-2.524377</td>\n      <td>-2.435025</td>\n      <td>-2.346751</td>\n      <td>0.222134</td>\n      <td>1.124650</td>\n      <td>...</td>\n      <td>79.801010</td>\n      <td>80.360733</td>\n      <td>255.669613</td>\n      <td>2.616806</td>\n      <td>274.883374</td>\n      <td>244.746112</td>\n      <td>0.010235</td>\n      <td>254.803201</td>\n      <td>255.341295</td>\n      <td>255.885238</td>\n    </tr>\n    <tr>\n      <th>...</th>\n      <td>...</td>\n      <td>...</td>\n      <td>...</td>\n      <td>...</td>\n      <td>...</td>\n      <td>...</td>\n      <td>...</td>\n      <td>...</td>\n      <td>...</td>\n      <td>...</td>\n      <td>...</td>\n      <td>...</td>\n      <td>...</td>\n      <td>...</td>\n      <td>...</td>\n      <td>...</td>\n      <td>...</td>\n      <td>...</td>\n      <td>...</td>\n      <td>...</td>\n      <td>...</td>\n    </tr>\n    <tr>\n      <th>206</th>\n      <td>-1.491092</td>\n      <td>0.513711</td>\n      <td>1.488336</td>\n      <td>-2.299024</td>\n      <td>-0.344520</td>\n      <td>-1.766262</td>\n      <td>-1.617967</td>\n      <td>-1.419841</td>\n      <td>0.371776</td>\n      <td>0.891749</td>\n      <td>...</td>\n      <td>42.764000</td>\n      <td>44.001992</td>\n      <td>256.903656</td>\n      <td>4.300709</td>\n      <td>280.961005</td>\n      <td>251.391464</td>\n      <td>0.016741</td>\n      <td>254.611789</td>\n      <td>255.869731</td>\n      <td>257.353463</td>\n    </tr>\n    <tr>\n      <th>207</th>\n      <td>2.490317</td>\n      <td>2.914248</td>\n      <td>12.193286</td>\n      <td>-8.432427</td>\n      <td>1.170232</td>\n      <td>1.112902</td>\n      <td>2.142055</td>\n      <td>3.704613</td>\n      <td>2.611459</td>\n      <td>354.458953</td>\n      <td>...</td>\n      <td>33.226567</td>\n      <td>38.692875</td>\n      <td>78.538578</td>\n      <td>58.359836</td>\n      <td>322.455487</td>\n      <td>23.149829</td>\n      <td>0.743072</td>\n      <td>49.164691</td>\n      <td>58.731247</td>\n      <td>76.647411</td>\n    </tr>\n    <tr>\n      <th>208</th>\n      <td>-1.723131</td>\n      <td>0.301992</td>\n      <td>-0.560339</td>\n      <td>-4.282913</td>\n      <td>-0.175258</td>\n      <td>-1.863635</td>\n      <td>-1.741107</td>\n      <td>-1.619522</td>\n      <td>-0.034372</td>\n      <td>0.166116</td>\n      <td>...</td>\n      <td>38.467897</td>\n      <td>39.273546</td>\n      <td>253.484340</td>\n      <td>2.639728</td>\n      <td>264.198181</td>\n      <td>233.915723</td>\n      <td>0.010414</td>\n      <td>252.144575</td>\n      <td>253.200856</td>\n      <td>254.257229</td>\n    </tr>\n    <tr>\n      <th>209</th>\n      <td>-0.679511</td>\n      <td>6.592114</td>\n      <td>20.478793</td>\n      <td>-28.328508</td>\n      <td>-9.701261</td>\n      <td>-4.674364</td>\n      <td>-0.438455</td>\n      <td>2.952608</td>\n      <td>-43.065887</td>\n      <td>7857.236266</td>\n      <td>...</td>\n      <td>54.255855</td>\n      <td>71.409820</td>\n      <td>145.163642</td>\n      <td>74.005945</td>\n      <td>342.416363</td>\n      <td>25.721074</td>\n      <td>0.509810</td>\n      <td>86.287236</td>\n      <td>120.820849</td>\n      <td>206.052697</td>\n    </tr>\n    <tr>\n      <th>210</th>\n      <td>-0.417548</td>\n      <td>0.595781</td>\n      <td>1.355953</td>\n      <td>-5.043771</td>\n      <td>-1.426856</td>\n      <td>-0.454711</td>\n      <td>-0.355095</td>\n      <td>-0.270344</td>\n      <td>-0.985606</td>\n      <td>4.610003</td>\n      <td>...</td>\n      <td>11.570768</td>\n      <td>12.685184</td>\n      <td>103.730341</td>\n      <td>14.631643</td>\n      <td>194.144153</td>\n      <td>77.275409</td>\n      <td>0.141055</td>\n      <td>98.335819</td>\n      <td>100.386283</td>\n      <td>102.982938</td>\n    </tr>\n  </tbody>\n</table>\n<p>211 rows × 68 columns</p>\n</div>"
     },
     "execution_count": 16,
     "metadata": {},
     "output_type": "execute_result"
    }
   ],
   "source": [
    "data_feature"
   ],
   "metadata": {
    "collapsed": false,
    "pycharm": {
     "name": "#%%\n"
    }
   }
  },
  {
   "cell_type": "markdown",
   "source": [
    "ok, на око фічі згенерилисль нормально та ніяких явних аномалій в них не має.\n",
    "Да, з оптимальним отриманням рядка таргерів не пішло(, але воно працює)))"
   ],
   "metadata": {
    "collapsed": false,
    "pycharm": {
     "name": "#%% md\n"
    }
   }
  },
  {
   "cell_type": "code",
   "execution_count": 17,
   "outputs": [],
   "source": [
    "y = data_filt.loc[:, [\"real_action\", \"action_index\"]]\\\n",
    "             .groupby(\"action_index\").aggregate(lambda x: list(set(x))[0]).real_action"
   ],
   "metadata": {
    "collapsed": false,
    "pycharm": {
     "name": "#%%\n"
    }
   }
  },
  {
   "cell_type": "code",
   "execution_count": 18,
   "outputs": [
    {
     "data": {
      "text/plain": "action_index\n0      0\n1      1\n2      0\n3      2\n4      0\n      ..\n206    0\n207    2\n208    0\n209    3\n210    0\nName: real_action, Length: 211, dtype: int64"
     },
     "execution_count": 18,
     "metadata": {},
     "output_type": "execute_result"
    }
   ],
   "source": [
    "y"
   ],
   "metadata": {
    "collapsed": false,
    "pycharm": {
     "name": "#%%\n"
    }
   }
  },
  {
   "cell_type": "code",
   "execution_count": 19,
   "outputs": [
    {
     "name": "stderr",
     "output_type": "stream",
     "text": [
      "C:\\Users\\cuner\\AppData\\Roaming\\JetBrains\\DataSpell2022.1\\projects\\workspace\\venv\\lib\\site-packages\\seaborn\\_decorators.py:36: FutureWarning:\n",
      "\n",
      "Pass the following variable as a keyword arg: x. From version 0.12, the only valid positional argument will be `data`, and passing other arguments without an explicit keyword will result in an error or misinterpretation.\n",
      "\n"
     ]
    },
    {
     "data": {
      "text/plain": "<Figure size 432x288 with 1 Axes>",
      "image/png": "[encoded data removed]"
     },
     "metadata": {},
     "output_type": "display_data"
    }
   ],
   "source": [
    "sns.countplot(y);"
   ],
   "metadata": {
    "collapsed": false,
    "pycharm": {
     "name": "#%%\n"
    }
   }
  },
  {
   "cell_type": "markdown",
   "source": [
    "Розіб'ємо дані на тестову та трейнову частину рандомно, але так щоб був баланс класів в обох виборках, в відношенні 0,8. Параметри моделей де це можливо будемо підбирати на кросвалідації.\n",
    "В якості оціночної метрики будемо використовувати roc_auc_score (гарна метрика для мультикласової клас з незбалансованими класами)\n",
    "Також через дисбаланс класів, під час тренування моделей, будемо вводити коефіцієнт, який виправить це.\n",
    "Що до моделей, які тут можуть підійти, тк як дата сет малий та навчання буде швидким, то я би спробував багато моделей різних класів. (Щось лінійне, KNN, RF, Boosting, SVM) + Плюс найкращі з РСА, бо в минулий раз це покращило результат.\n",
    "Через деяких модей, одразу відскейлю дані.\n"
   ],
   "metadata": {
    "collapsed": false,
    "pycharm": {
     "name": "#%% md\n"
    }
   }
  },
  {
   "cell_type": "code",
   "execution_count": 20,
   "outputs": [
    {
     "name": "stderr",
     "output_type": "stream",
     "text": [
      "C:\\Users\\cuner\\AppData\\Roaming\\JetBrains\\DataSpell2022.1\\projects\\workspace\\venv\\lib\\site-packages\\sklearn\\utils\\validation.py:1688: FutureWarning:\n",
      "\n",
      "Feature names only support names that are all strings. Got feature names with dtypes: ['int', 'str']. An error will be raised in 1.2.\n",
      "\n",
      "C:\\Users\\cuner\\AppData\\Roaming\\JetBrains\\DataSpell2022.1\\projects\\workspace\\venv\\lib\\site-packages\\sklearn\\utils\\validation.py:1688: FutureWarning:\n",
      "\n",
      "Feature names only support names that are all strings. Got feature names with dtypes: ['int', 'str']. An error will be raised in 1.2.\n",
      "\n"
     ]
    }
   ],
   "source": [
    "Sts = StandardScaler()\n",
    "data_feature = Sts.fit_transform(data_feature)"
   ],
   "metadata": {
    "collapsed": false,
    "pycharm": {
     "name": "#%%\n"
    }
   }
  },
  {
   "cell_type": "code",
   "execution_count": 82,
   "outputs": [],
   "source": [
    "X_train, X_test, y_train, y_test = train_test_split(data_feature, y,\n",
    "                                                test_size=0.2, random_state=12, stratify=y)"
   ],
   "metadata": {
    "collapsed": false,
    "pycharm": {
     "name": "#%%\n"
    }
   }
  },
  {
   "cell_type": "code",
   "execution_count": 76,
   "outputs": [],
   "source": [
    "y_train.reset_index(inplace=True, drop=True)\n",
    "y_test.reset_index(inplace=True, drop=True)"
   ],
   "metadata": {
    "collapsed": false,
    "pycharm": {
     "name": "#%%\n"
    }
   }
  },
  {
   "cell_type": "markdown",
   "source": [
    "Почнимо з KNeighborsClassifier. Тут не буду паритись з кросвал, просто підберемо n_neighbors по тесту, бо knn це алгоритм, який просто працює, або не працюю в задачі, в залежності від структури даних"
   ],
   "metadata": {
    "collapsed": false,
    "pycharm": {
     "name": "#%% md\n"
    }
   }
  },
  {
   "cell_type": "code",
   "execution_count": 39,
   "outputs": [],
   "source": [
    "knn_score = []\n",
    "for i in range(1, 20):\n",
    "    knn = KNeighborsClassifier(n_neighbors= i, weights=\"distance\").fit(X_train, y_train)\n",
    "    knn_score.append(roc_auc_score(y_test, knn.predict_proba(X_test), multi_class=\"ovr\"))"
   ],
   "metadata": {
    "collapsed": false,
    "pycharm": {
     "name": "#%%\n"
    }
   }
  },
  {
   "cell_type": "code",
   "execution_count": 40,
   "outputs": [
    {
     "data": {
      "text/plain": "[0.9535372666540429,\n 0.9622883333820834,\n 0.959808784027534,\n 0.9581064932627432,\n 0.9550638808451308,\n 0.9543536535724035,\n 0.9521621865371865,\n 0.9692414614289615,\n 0.9675391706641707,\n 0.9678942843005343,\n 0.9735022156897157,\n 0.9754863426738427,\n 0.9757806710931711,\n 0.9774829618579619,\n 0.97535228003978,\n 0.9797489250614251,\n 0.983005733005733,\n 0.983005733005733,\n 0.9804591523341524]"
     },
     "execution_count": 40,
     "metadata": {},
     "output_type": "execute_result"
    }
   ],
   "source": [
    "knn_score"
   ],
   "metadata": {
    "collapsed": false,
    "pycharm": {
     "name": "#%%\n"
    }
   }
  },
  {
   "cell_type": "markdown",
   "source": [
    "Я навчав алгоритм на різних дата сетах ( 1) 10 тільки моїх записів, 2)- 10 + 10 від 2 людей, 3) 20 + 5 від 3 людей), то тут є пункти 1), 2) і тд, для різних дата сетів.\n",
    "1)Воу, практически все числа от 1 до 9 дают roc = 1, ок пускай будет n_neighbors = 5\n",
    "2)Воу, практически все числа от 3 до 7 дают roc = 0.99, а для 7 - 20 roc = 0.98 - 0.97, ок пускай будет n_neighbors = 4\n",
    "3)ok, результат нарешті погіршився до, найкраший результат показує n_neighbors = 16-19, в залезності від сіду roc = 0.95 - 0.99, але якщо глянути на confusion_matrix, то видно що основна проблема в плутанині з присіданнями, я гадаю, що це через помилки на етапі визначення активних та не активних зон,дуже багато маленьких розрізів у присіданнях з поганими показниками, що і сбиває алгоритм.\n"
   ],
   "metadata": {
    "collapsed": false,
    "pycharm": {
     "name": "#%% md\n"
    }
   }
  },
  {
   "cell_type": "code",
   "execution_count": 46,
   "outputs": [
    {
     "data": {
      "text/plain": "array([[18,  0,  0,  1],\n       [ 0,  5,  2,  0],\n       [ 0,  0,  9,  2],\n       [ 1,  0,  0,  5]], dtype=int64)"
     },
     "execution_count": 46,
     "metadata": {},
     "output_type": "execute_result"
    }
   ],
   "source": [
    "knn = KNeighborsClassifier(n_neighbors= 18, weights=\"distance\").fit(X_train, y_train)\n",
    "knn_pred = knn.predict_proba(X_test)\n",
    "confusion_matrix(y_test, knn.predict(X_test))"
   ],
   "metadata": {
    "collapsed": false,
    "pycharm": {
     "name": "#%%\n"
    }
   }
  },
  {
   "cell_type": "code",
   "execution_count": 49,
   "outputs": [
    {
     "data": {
      "text/plain": "array([[0.  , 1.  , 0.  , 0.  ],\n       [0.  , 0.  , 1.  , 0.  ],\n       [1.  , 0.  , 0.  , 0.  ],\n       [0.75, 0.  , 0.  , 0.25],\n       [0.  , 0.  , 1.  , 0.  ],\n       [0.5 , 0.25, 0.25, 0.  ],\n       [0.  , 0.  , 0.  , 1.  ],\n       [0.  , 0.75, 0.25, 0.  ],\n       [0.75, 0.  , 0.  , 0.25],\n       [0.  , 0.  , 0.75, 0.25],\n       [0.  , 0.  , 1.  , 0.  ],\n       [0.  , 0.25, 0.  , 0.75],\n       [1.  , 0.  , 0.  , 0.  ],\n       [1.  , 0.  , 0.  , 0.  ],\n       [1.  , 0.  , 0.  , 0.  ],\n       [1.  , 0.  , 0.  , 0.  ],\n       [1.  , 0.  , 0.  , 0.  ],\n       [0.75, 0.  , 0.25, 0.  ],\n       [0.  , 0.  , 0.  , 1.  ],\n       [0.  , 1.  , 0.  , 0.  ],\n       [1.  , 0.  , 0.  , 0.  ],\n       [1.  , 0.  , 0.  , 0.  ],\n       [0.  , 0.  , 0.  , 1.  ],\n       [0.  , 0.  , 0.  , 1.  ],\n       [1.  , 0.  , 0.  , 0.  ]])"
     },
     "execution_count": 49,
     "metadata": {},
     "output_type": "execute_result"
    }
   ],
   "source": [
    "knn_pred"
   ],
   "metadata": {
    "collapsed": false,
    "pycharm": {
     "name": "#%%\n"
    }
   }
  },
  {
   "cell_type": "code",
   "execution_count": 50,
   "outputs": [
    {
     "data": {
      "text/plain": "action_index\n41     1\n103    2\n4      0\n106    0\n101    2\n56     2\n31     3\n67     1\n11     0\n35     2\n3      2\n111    1\n54     0\n6      0\n44     0\n22     0\n24     0\n114    0\n91     3\n87     1\n10     0\n50     0\n73     3\n13     3\n100    0\nName: real_action, dtype: int64"
     },
     "execution_count": 50,
     "metadata": {},
     "output_type": "execute_result"
    }
   ],
   "source": [
    "y_test"
   ],
   "metadata": {
    "collapsed": false,
    "pycharm": {
     "name": "#%%\n"
    }
   }
  },
  {
   "cell_type": "markdown",
   "source": [
    "1)Да, roc 1, явно потрібно більше різних даних.\n",
    "Давайте спробуємо на різних сідах розбиття трейну, може щось істотно зміниться.\n",
    "Я змінив 7 рандом сідів і там справи ще краще, схоже что данні з одного мене, на такій малій кількості вправ дуже легкі для алгоритму. Дороблю програму до кінця з усіма фічами, а потім додам даних інших людей та додам вправ.\n",
    "2) Я додав еще одну людину, і roc ~1, на різних сідах, невже KNN вистрілив.\n",
    "3) Спробуємо ще декілька алгоритмів, а після цього вже будемо змінювати визначення активних зон"
   ],
   "metadata": {
    "collapsed": false,
    "pycharm": {
     "name": "#%% md\n"
    }
   }
  },
  {
   "cell_type": "markdown",
   "source": [
    "Спробуєм CatBoost, він дуже грано на внутрішніх евристиках пряцює на стандартних налаштуваннях, тому підберемо тільки кількість ітерацій, щоб він не перенавчався.  Я знаю що в нього є така внутрішня функція, але не дивлячись на графіки(в мене слабкий пк) я їй не довіряю."
   ],
   "metadata": {
    "collapsed": false,
    "pycharm": {
     "name": "#%% md\n"
    }
   }
  },
  {
   "cell_type": "code",
   "execution_count": 77,
   "outputs": [],
   "source": [
    "skf = StratifiedKFold(n_splits=5, shuffle=True, random_state=13)\n",
    "cat_score_train = []\n",
    "cat_score_test = []"
   ],
   "metadata": {
    "collapsed": false,
    "pycharm": {
     "name": "#%%\n"
    }
   }
  },
  {
   "cell_type": "code",
   "execution_count": 78,
   "outputs": [
    {
     "name": "stdout",
     "output_type": "stream",
     "text": [
      "Learning rate set to 0.5\n",
      "0:\tlearn: 0.9283690\ttotal: 59.4ms\tremaining: 1.13s\n",
      "217:\tlearn: 0.0078527\ttotal: 16.8s\tremaining: 154ms\n",
      "218:\tlearn: 0.0078226\ttotal: 16.9s\tremaining: 77.1ms\n",
      "219:\tlearn: 0.0077880\ttotal: 17s\tremaining: 0us\n"
     ]
    }
   ],
   "source": [
    "for n_tree in [20, 50, 100, 150, 200, 130, 170, 220]:\n",
    "    ctb = CatBoostClassifier(random_seed=17, iterations=n_tree, auto_class_weights=\"Balanced\")\n",
    "    cv_scores_train = []\n",
    "    cv_scores_test = []\n",
    "    for train_idx, test_idx in skf.split(X_train, y_train):\n",
    "        cv_train_df, cv_valid_df = (X_train[train_idx, :],\n",
    "                                    X_train[test_idx, :])\n",
    "        y_cv_train, y_cv_valid = y_train[train_idx], y_train[test_idx]\n",
    "\n",
    "        ctb.fit(cv_train_df, y_cv_train)\n",
    "\n",
    "        cv_scores_train.append(roc_auc_score(y_cv_train, ctb.predict_proba(cv_train_df), multi_class=\"ovr\"))\n",
    "        cv_scores_test.append(roc_auc_score(y_cv_valid, ctb.predict_proba(cv_valid_df), multi_class=\"ovr\"))\n",
    "    cat_score_train.append(np.mean(cv_scores_train))\n",
    "    cat_score_test.append(np.mean(cv_scores_test))"
   ],
   "metadata": {
    "collapsed": false,
    "pycharm": {
     "name": "#%%\n"
    }
   }
  },
  {
   "cell_type": "code",
   "execution_count": 79,
   "outputs": [
    {
     "data": {
      "text/plain": "<Figure size 432x288 with 1 Axes>",
      "image/png": "[encoded data removed]"
     },
     "metadata": {},
     "output_type": "display_data"
    }
   ],
   "source": [
    "plt.scatter([20, 50, 100, 150, 200, 130, 170, 220],\n",
    "         cat_score_train, label=\"train\")\n",
    "plt.scatter([20, 50, 100, 150, 200, 130, 170, 220],\n",
    "         cat_score_test, label=\"test\")\n",
    "plt.title(\"Score (n_iterations)\")\n",
    "plt.legend()\n",
    "plt.show()"
   ],
   "metadata": {
    "collapsed": false,
    "pycharm": {
     "name": "#%%\n"
    }
   }
  },
  {
   "cell_type": "markdown",
   "source": [
    "Ну що roc знову 0.99, тому не бачу сесну старатися вибивати більше (цього вистачить для мого проєкту), кількість ітерацій возьмемо трохи с запасом - 180 та розкатимо на повну модель."
   ],
   "metadata": {
    "collapsed": false,
    "pycharm": {
     "name": "#%% md\n"
    }
   }
  },
  {
   "cell_type": "code",
   "execution_count": 80,
   "outputs": [
    {
     "name": "stdout",
     "output_type": "stream",
     "text": [
      "Learning rate set to 0.307687\n",
      "0:\tlearn: 1.1109054\ttotal: 66.5ms\tremaining: 11.9s\n",
      "178:\tlearn: 0.0073034\ttotal: 14.4s\tremaining: 80.4ms\n",
      "179:\tlearn: 0.0072890\ttotal: 14.5s\tremaining: 0us\n"
     ]
    }
   ],
   "source": [
    "ctb = CatBoostClassifier(random_seed=17, iterations=180, auto_class_weights=\"Balanced\").fit(X_train, y_train)"
   ],
   "metadata": {
    "collapsed": false,
    "pycharm": {
     "name": "#%%\n"
    }
   }
  },
  {
   "cell_type": "code",
   "execution_count": 83,
   "outputs": [
    {
     "data": {
      "text/plain": "0.9963135822510822"
     },
     "execution_count": 83,
     "metadata": {},
     "output_type": "execute_result"
    }
   ],
   "source": [
    "ctb_pred = ctb.predict_proba(X_test)\n",
    "roc_auc_score(y_test, ctb_pred, multi_class=\"ovr\")"
   ],
   "metadata": {
    "collapsed": false,
    "pycharm": {
     "name": "#%%\n"
    }
   }
  },
  {
   "cell_type": "markdown",
   "source": [
    "ОК, кат буст показав не на багато кращий результат, але тепер він стабыльний до зміни рандом сіда,  тому як модель будемо використовувати його."
   ],
   "metadata": {
    "collapsed": false,
    "pycharm": {
     "name": "#%% md\n"
    }
   }
  },
  {
   "cell_type": "markdown",
   "source": [
    "Збережимо  найкращі модельки"
   ],
   "metadata": {
    "collapsed": false,
    "pycharm": {
     "name": "#%% md\n"
    }
   }
  },
  {
   "cell_type": "code",
   "execution_count": 87,
   "outputs": [
    {
     "name": "stdout",
     "output_type": "stream",
     "text": [
      "Learning rate set to 0.311284\n",
      "0:\tlearn: 1.0421195\ttotal: 167ms\tremaining: 29.8s\n",
      "1:\tlearn: 0.8525132\ttotal: 287ms\tremaining: 25.5s\n",
      "178:\tlearn: 0.0074570\ttotal: 17.3s\tremaining: 96.8ms\n",
      "179:\tlearn: 0.0073836\ttotal: 17.4s\tremaining: 0us\n"
     ]
    }
   ],
   "source": [
    "ctb_full = CatBoostClassifier(random_seed=17, iterations=180, auto_class_weights=\"Balanced\").fit(data_feature, y)"
   ],
   "metadata": {
    "collapsed": false,
    "pycharm": {
     "name": "#%%\n"
    }
   }
  },
  {
   "cell_type": "code",
   "execution_count": 89,
   "outputs": [
    {
     "data": {
      "text/plain": "['sts_model_28.joblib']"
     },
     "execution_count": 89,
     "metadata": {},
     "output_type": "execute_result"
    }
   ],
   "source": [
    "dump(ctb_full, \"cat_model_28.joblib\")\n",
    "dump(Sts, \"sts_model_28.joblib\")"
   ],
   "metadata": {
    "collapsed": false,
    "pycharm": {
     "name": "#%%\n"
    }
   }
  },
  {
   "cell_type": "code",
   "execution_count": 70,
   "outputs": [],
   "source": [
    "knn_full = KNeighborsClassifier(n_neighbors= 4).fit(data_feature, y)\n",
    "dump(knn_full, \"knn_model_17.joblib\")\n",
    "dump(Sts, \"sts_model_17.joblib\")"
   ],
   "metadata": {
    "collapsed": false,
    "pycharm": {
     "name": "#%%\n"
    }
   }
  }
 ],
 "metadata": {
  "kernelspec": {
   "display_name": "Python 3",
   "language": "python",
   "name": "python3"
  },
  "language_info": {
   "codemirror_mode": {
    "name": "ipython",
    "version": 2
   },
   "file_extension": ".py",
   "mimetype": "text/x-python",
   "name": "python",
   "nbconvert_exporter": "python",
   "pygments_lexer": "ipython2",
   "version": "2.7.6"
  }
 },
 "nbformat": 4,
 "nbformat_minor": 0
}
