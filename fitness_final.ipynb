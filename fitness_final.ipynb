{
 "cells": [
  {
   "cell_type": "code",
   "execution_count": 32,
   "metadata": {
    "collapsed": true,
    "pycharm": {
     "name": "#%%\n"
    }
   },
   "outputs": [],
   "source": [
    "import os\n",
    "import sys\n",
    "\n",
    "import numpy as np\n",
    "import pandas as pd\n",
    "\n",
    "# import plotly\n",
    "# import plotly.express as px\n",
    "\n",
    "from scipy.stats import moment, skew, kurtosis\n",
    "\n",
    "from joblib import load"
   ]
  },
  {
   "cell_type": "markdown",
   "source": [
    "Там датасет починаеться з 4 строки, вперших 3 інфа про файл та датчики."
   ],
   "metadata": {
    "collapsed": false,
    "pycharm": {
     "name": "#%% md\n"
    }
   }
  },
  {
   "cell_type": "code",
   "execution_count": 2,
   "outputs": [],
   "source": [
    "def skip_fun(x):\n",
    "    return x in (0, 1, 2)"
   ],
   "metadata": {
    "collapsed": false,
    "pycharm": {
     "name": "#%%\n"
    }
   }
  },
  {
   "cell_type": "markdown",
   "source": [
    "Нехай у нас є папка з усіма тренуваннями, і ми хочем глянути якість нашої останньої (умовно тільки що зробленої розминки)"
   ],
   "metadata": {
    "collapsed": false,
    "pycharm": {
     "name": "#%% md\n"
    }
   }
  },
  {
   "cell_type": "code",
   "execution_count": 162,
   "outputs": [],
   "source": [
    "file_name = os.listdir(\"test_file\")[-1]"
   ],
   "metadata": {
    "collapsed": false,
    "pycharm": {
     "name": "#%%\n"
    }
   }
  },
  {
   "cell_type": "code",
   "execution_count": 163,
   "outputs": [
    {
     "data": {
      "text/plain": "'test8_error_file.txt'"
     },
     "execution_count": 163,
     "metadata": {},
     "output_type": "execute_result"
    }
   ],
   "source": [
    "file_name"
   ],
   "metadata": {
    "collapsed": false,
    "pycharm": {
     "name": "#%%\n"
    }
   }
  },
  {
   "cell_type": "code",
   "execution_count": 164,
   "outputs": [],
   "source": [
    "data = pd.read_csv(\"test_file/\" + file_name, skiprows=skip_fun)\n",
    "data.rename(columns={\"Time (s)\": \"Time\",\n",
    "                     \" X (m/s2)\": \"X\",\n",
    "                     \" Y (m/s2)\": \"Y\",\n",
    "                     \" Z (m/s2)\": \"Z\",\n",
    "                     \" R (m/s2)\": \"R\",\n",
    "                     \" Theta (deg)\": \"Theta\",\n",
    "                     \" Phi (deg)\": \"Phi\",}, inplace=True)"
   ],
   "metadata": {
    "collapsed": false,
    "pycharm": {
     "name": "#%%\n"
    }
   }
  },
  {
   "cell_type": "markdown",
   "source": [
    "Зробимо перевірку даних на основні параметри нашого сигналу, які можуть показувати, що з датчиком чи самим сигналом, щось не так, та якщо є проблеми запишемо звіт помилок. (Опис чому саме такі перевірки у workbook)"
   ],
   "metadata": {
    "collapsed": false,
    "pycharm": {
     "name": "#%% md\n"
    }
   }
  },
  {
   "cell_type": "code",
   "execution_count": 165,
   "outputs": [],
   "source": [
    "data[\"frec\"] = 1 / data[\"Time\"].diff()\n",
    "\n",
    "errors = []\n",
    "\n",
    "if any(data[\"frec\"].apply(lambda x: np.abs(x - data[\"frec\"].mean()) > 1.5)):\n",
    "    errors.append(\"Не стабільна частота\")\n",
    "\n",
    "if ((data.loc[:, [\"X\", 'Y', \"Z\"]].max()).max() > 80) | ((data.loc[:, [\"X\", 'Y', \"Z\"]].min()).min() < -80):\n",
    "    errors.append(\"Досягнут ліміт датчика по одній осі\")\n",
    "\n",
    "if data[\"R\"].max() > 150:\n",
    "    errors.append(\"Аномальні прискорення\")\n",
    "\n",
    "if data.shape[0] < 150:\n",
    "    errors.append(\"Можливо ваш запис був пошкоджений, він надто короткий\")\n",
    "\n",
    "if not (5 < data[\"R\"].mean() < 20):\n",
    "    errors.append(\"Аномальне середнє прискорення\")\n",
    "\n",
    "if errors:\n",
    "    file_report_error = open(\"Error report/Error report {}\".format(file_name), \"w\")\n",
    "\n",
    "    original_stdout = sys.stdout\n",
    "    sys.stdout = file_report_error\n",
    "\n",
    "    print(\"Звіт помилок {}\".format(file_name[:-4]), \"\", sep=\"\\n\")\n",
    "\n",
    "    errors = \"\\n\".join(errors)\n",
    "    print(\"У вашому файлі наявні такі помолки:\", \"\", errors, sep=\"\\n\")\n",
    "\n",
    "    sys.stdout = original_stdout\n",
    "    file_report_error.close()"
   ],
   "metadata": {
    "collapsed": false,
    "pycharm": {
     "name": "#%%\n"
    }
   }
  },
  {
   "cell_type": "markdown",
   "source": [
    "Фільтрація та згладжування даних.\n",
    "P.S. Да, я бачу, що тяну зайві змінні у вигляді нових окремих датафреймів, чи зміних з моделями і т.д., можно покращити та прибрати їх, але зараз ні, бо не сильно потрібно, та займе зайвий час.\n",
    "P.S.S. Деякі частину коду можно було б обернути в окремі функції, щоб було зрозуміліше та більш підтримуємо в майбутньому, але тут як і у минулому зауваженні)))"
   ],
   "metadata": {
    "collapsed": false,
    "pycharm": {
     "name": "#%% md\n"
    }
   }
  },
  {
   "cell_type": "code",
   "execution_count": 166,
   "outputs": [],
   "source": [
    "data_filt = data.copy()\n",
    "\n",
    "for i in [\"X\", \"Y\", \"Z\", \"R\", \"Theta\", \"Phi\"]:\n",
    "    data_filt[i] = data_filt[[i]].rolling(5).mean()\n",
    "    data_filt.loc[range(4), [i]] = data.loc[range(4), [i]]"
   ],
   "metadata": {
    "collapsed": false,
    "pycharm": {
     "name": "#%%\n"
    }
   }
  },
  {
   "cell_type": "markdown",
   "source": [
    "Визначення активних та не активних зон, для подальшого розподілення на окремі імпульси."
   ],
   "metadata": {
    "collapsed": false,
    "pycharm": {
     "name": "#%% md\n"
    }
   }
  },
  {
   "cell_type": "code",
   "execution_count": 167,
   "outputs": [],
   "source": [
    "data_filt[\"win_ind\"] = data_filt.index // 25\n",
    "\n",
    "data_win_25 = data_filt.loc[:, [\"R\", \"win_ind\"]]\\\n",
    "    .groupby(\"win_ind\")\\\n",
    "    .aggregate(lambda x: int((x.max() > 13) or (x.min() < 7)))\\\n",
    "    .rename(columns={\"R\": \"Active\"})\\\n",
    "    .reset_index()\n",
    "\n",
    "data_filt = pd.merge(data_filt, data_win_25, how='outer', on='win_ind')"
   ],
   "metadata": {
    "collapsed": false,
    "pycharm": {
     "name": "#%%\n"
    }
   }
  },
  {
   "cell_type": "markdown",
   "source": [
    "Розподілення на окремі імпульси"
   ],
   "metadata": {
    "collapsed": false,
    "pycharm": {
     "name": "#%% md\n"
    }
   }
  },
  {
   "cell_type": "code",
   "execution_count": 168,
   "outputs": [],
   "source": [
    "data_filt[\"action_index\"] = 0\n",
    "action_ind = 0\n",
    "for i in range(1, data_filt.shape[0]):\n",
    "    if data_filt.loc[i, \"Active\"] != data_filt.loc[i - 1, \"Active\"]:\n",
    "        action_ind += 1\n",
    "    data_filt.loc[i, \"action_index\"] = action_ind"
   ],
   "metadata": {
    "collapsed": false,
    "pycharm": {
     "name": "#%%\n"
    }
   }
  },
  {
   "cell_type": "markdown",
   "source": [
    "Підрахунок наших фічей для моделі"
   ],
   "metadata": {
    "collapsed": false,
    "pycharm": {
     "name": "#%% md\n"
    }
   }
  },
  {
   "cell_type": "markdown",
   "source": [
    "Функція для підрахунку кількості претинів середнього значення в імпульсі."
   ],
   "metadata": {
    "collapsed": false,
    "pycharm": {
     "name": "#%% md\n"
    }
   }
  },
  {
   "cell_type": "code",
   "execution_count": 169,
   "outputs": [],
   "source": [
    "def n_cross(x):\n",
    "    x_del = x - x.mean()\n",
    "    return (np.diff(np.sign(x_del)) != 0).sum()"
   ],
   "metadata": {
    "collapsed": false,
    "pycharm": {
     "name": "#%%\n"
    }
   }
  },
  {
   "cell_type": "code",
   "execution_count": 170,
   "outputs": [],
   "source": [
    "data_feature_acc = data_filt.loc[:, [\"X\", \"Y\", \"Z\", \"R\", \"action_index\"]]\\\n",
    "    .groupby(\"action_index\").aggregate([\n",
    "    lambda x: x.mean(),\n",
    "    lambda x: x.std(),\n",
    "    lambda x: x.max(),\n",
    "    lambda x: x.min(),\n",
    "    lambda x: x.std() / x.mean(),\n",
    "    lambda x: np.percentile(x, 25),\n",
    "    lambda x: np.percentile(x, 50),\n",
    "    lambda x: np.percentile(x, 75),\n",
    "    lambda x: moment(x, moment=3),\n",
    "    lambda x: moment(x, moment=4),\n",
    "    lambda x: skew(x),\n",
    "    lambda x: kurtosis(x),\n",
    "    lambda x: n_cross(x)])\n",
    "\n",
    "data_feature_acc = data_feature_acc.T.reset_index().T.drop([\"level_0\", \"level_1\"])\n",
    "data_feature_acc = data_feature_acc.apply(lambda x: x.astype(float))"
   ],
   "metadata": {
    "collapsed": false,
    "pycharm": {
     "name": "#%%\n"
    }
   }
  },
  {
   "cell_type": "markdown",
   "source": [
    "Також потрібно було відтворити нормальну індексацію та формат даних"
   ],
   "metadata": {
    "collapsed": false,
    "pycharm": {
     "name": "#%% md\n"
    }
   }
  },
  {
   "cell_type": "markdown",
   "source": [
    "Аналогічно для кутових змінних, але з урахуванням не потрібних фічей"
   ],
   "metadata": {
    "collapsed": false,
    "pycharm": {
     "name": "#%% md\n"
    }
   }
  },
  {
   "cell_type": "code",
   "execution_count": 171,
   "outputs": [],
   "source": [
    "data_feature_cor = data_filt.loc[:, [\"Theta\", \"Phi\", \"action_index\"]]\\\n",
    "    .groupby(\"action_index\").aggregate([\n",
    "    lambda x: x.mean(),\n",
    "    lambda x: x.std(),\n",
    "    lambda x: x.max(),\n",
    "    lambda x: x.min(),\n",
    "    lambda x: x.std() / x.mean(),\n",
    "    lambda x: np.percentile(x, 25),\n",
    "    lambda x: np.percentile(x, 50),\n",
    "    lambda x: np.percentile(x, 75)])\n",
    "\n",
    "data_feature_cor = data_feature_cor.T.reset_index().T.drop([\"level_0\", \"level_1\"])\n",
    "data_feature_cor = data_feature_cor.apply(lambda x: x.astype(float))"
   ],
   "metadata": {
    "collapsed": false,
    "pycharm": {
     "name": "#%%\n"
    }
   }
  },
  {
   "cell_type": "markdown",
   "source": [
    "Об'єднуємо у повний сет"
   ],
   "metadata": {
    "collapsed": false,
    "pycharm": {
     "name": "#%% md\n"
    }
   }
  },
  {
   "cell_type": "code",
   "execution_count": 172,
   "outputs": [],
   "source": [
    "data_feature_acc.reset_index(inplace=True)\n",
    "data_feature_cor.reset_index(inplace=True)\n",
    "data_feature = pd.merge(data_feature_acc, data_feature_cor, on=\"action_index\")\n",
    "data_feature.drop(\"action_index\", axis=1, inplace=True)"
   ],
   "metadata": {
    "collapsed": false,
    "pycharm": {
     "name": "#%%\n"
    }
   }
  },
  {
   "cell_type": "markdown",
   "source": [
    "Тепер відскейлимо фічі"
   ],
   "metadata": {
    "collapsed": false,
    "pycharm": {
     "name": "#%% md\n"
    }
   }
  },
  {
   "cell_type": "code",
   "execution_count": 173,
   "outputs": [
    {
     "name": "stderr",
     "output_type": "stream",
     "text": [
      "C:\\Users\\cuner\\AppData\\Roaming\\JetBrains\\DataSpell2022.1\\projects\\workspace\\venv\\lib\\site-packages\\sklearn\\utils\\validation.py:1688: FutureWarning:\n",
      "\n",
      "Feature names only support names that are all strings. Got feature names with dtypes: ['int', 'str']. An error will be raised in 1.2.\n",
      "\n"
     ]
    }
   ],
   "source": [
    "Sts = load(\"models/sts_model_28.joblib\")\n",
    "data_feature = Sts.transform(data_feature)"
   ],
   "metadata": {
    "collapsed": false,
    "pycharm": {
     "name": "#%%\n"
    }
   }
  },
  {
   "cell_type": "markdown",
   "source": [
    "Завантажимо нашу модель, зробимо предікт та переведемо його на початкові дані"
   ],
   "metadata": {
    "collapsed": false,
    "pycharm": {
     "name": "#%% md\n"
    }
   }
  },
  {
   "cell_type": "code",
   "execution_count": 174,
   "outputs": [],
   "source": [
    "model = load(\"models/cat_model_28.joblib\")\n",
    "model_pred = model.predict(data_feature)\n",
    "pred_df = pd.DataFrame({\"action_index\": range(model_pred.shape[0]),\n",
    "                        \"model_predict\": model_pred[:, 0]})\n",
    "data_filt = pd.merge(data_filt, pred_df, how=\"outer\", on=\"action_index\")"
   ],
   "metadata": {
    "collapsed": false,
    "pycharm": {
     "name": "#%%\n"
    }
   }
  },
  {
   "cell_type": "markdown",
   "source": [
    "Ви можете намалювати сигнал на разних стадіях:\n",
    "1) Після розбиття на зони активності і спокою (на окремі сигнали)\n",
    "2) Після розбиття на окремі дії\n",
    "3) Після предикту"
   ],
   "metadata": {
    "collapsed": false,
    "pycharm": {
     "name": "#%% md\n"
    }
   }
  },
  {
   "cell_type": "code",
   "execution_count": 23,
   "outputs": [],
   "source": [
    "# fig = px.scatter(x=data_filt.index,\n",
    "#                  y=data_filt[\"R\"],\n",
    "#                  color=data_filt[\"Active\"])\\\n",
    "#     .update_layout(title=\"Залежність повного прискорення від часу (Active den)\",\n",
    "#                    xaxis_title=\"Номер точки(час)\",\n",
    "#                    yaxis_title=\"Прискорення\",\n",
    "#                    template='plotly')\n",
    "#\n",
    "# plotly.offline.plot(fig, filename=\"fit_Active_den.html\", show_link=False);"
   ],
   "metadata": {
    "collapsed": false,
    "pycharm": {
     "name": "#%%\n"
    }
   }
  },
  {
   "cell_type": "code",
   "execution_count": 22,
   "outputs": [],
   "source": [
    "# fig = px.scatter(x=data_filt.index,\n",
    "#                  y=data_filt[\"R\"],\n",
    "#                  color=data_filt[\"action_index\"])\\\n",
    "#     .update_layout(title=\"Залежність повного прискорення від часу (action_index den)\",\n",
    "#                    xaxis_title=\"Номер точки(час)\",\n",
    "#                    yaxis_title=\"Прискорення\",\n",
    "#                    template='plotly')\n",
    "#\n",
    "# plotly.offline.plot(fig, filename=\"fit_action_index_predict_den.html\", show_link=False);"
   ],
   "metadata": {
    "collapsed": false,
    "pycharm": {
     "name": "#%%\n"
    }
   }
  },
  {
   "cell_type": "code",
   "execution_count": 175,
   "outputs": [],
   "source": [
    "# fig = px.scatter(x=data_filt.index,\n",
    "#                  y=data_filt[\"R\"],\n",
    "#                  color=data_filt[\"model_predict\"])\\\n",
    "#     .update_layout(title=\"Залежність повного прискорення від часу (model_predict I)\",\n",
    "#                    xaxis_title=\"Номер точки(час)\",\n",
    "#                    yaxis_title=\"Прискорення\",\n",
    "#                    template='plotly')\n",
    "#\n",
    "# plotly.offline.plot(fig, filename=\"fit_model_predict_test8.html\", show_link=False);"
   ],
   "metadata": {
    "collapsed": false,
    "pycharm": {
     "name": "#%%\n"
    }
   }
  },
  {
   "cell_type": "markdown",
   "source": [
    "Перевіримо правильність розминки та запишемо звіт про розминку в файл."
   ],
   "metadata": {
    "collapsed": false,
    "pycharm": {
     "name": "#%% md\n"
    }
   }
  },
  {
   "cell_type": "code",
   "execution_count": 176,
   "outputs": [],
   "source": [
    "time_0, time_1, time_2, time_3 = 0.0, 0.0, 0.0, 0.0\n",
    "ex_ind = 0\n",
    "\n",
    "file_report_fit = open(\"Fitness report/Fitness report {}\".format(file_name), \"w\")\n",
    "\n",
    "original_stdout = sys.stdout\n",
    "sys.stdout = file_report_fit\n",
    "\n",
    "print(\"Звіт тренування {}\".format(file_name[:-4]), \"\", sep=\"\\n\")\n",
    "\n",
    "for i in data_filt[\"action_index\"].unique():\n",
    "    data_i = data_filt[data_filt[\"action_index\"] == i].reset_index()\n",
    "    dt = data_i.loc[data_i.shape[0] - 1, \"Time\"] - data_i.loc[0, \"Time\"]\n",
    "    if data_i.loc[0, \"model_predict\"] == 0:\n",
    "        time_0 += dt\n",
    "        continue\n",
    "    elif data_i.loc[0, \"model_predict\"] == 1:\n",
    "        ex_ind += 1\n",
    "        time_1 += dt\n",
    "        print(\"Ваша {} вправа махи руками, вона тривала: {:.4} секунд\".format(ex_ind, dt))\n",
    "        continue\n",
    "    elif data_i.loc[0, \"model_predict\"] == 2:\n",
    "        ex_ind += 1\n",
    "        time_2 += dt\n",
    "        print(\"Ваша {} вправа присідання, вона тривала: {:.4} секунд\".format(ex_ind, dt))\n",
    "        continue\n",
    "    else:\n",
    "        ex_ind += 1\n",
    "        time_3 += dt\n",
    "        print(\"Ваша {} вправа удари руками, вона тривала: {:.4} секунд\".format(ex_ind, dt))\n",
    "\n",
    "print(\"\", \"Результат:\", \"\", sep=\"\\n\")\n",
    "print(\"Ви виконували махи руками: {:.4} секунд\".format(time_1))\n",
    "print(\"Ви виконували присідання: {:.4} секунд\".format(time_2))\n",
    "print(\"Ви виконували удари руками: {:.4} секунд\".format(time_3))\n",
    "print(\"Ви відпочивали: {:.4} секунд\".format(time_0))\n",
    "\n",
    "all_good = True\n",
    "bad = []\n",
    "if time_1 < 12:\n",
    "    bad.append(\"махи руками\")\n",
    "    all_good = False\n",
    "if time_2 < 12:\n",
    "    bad.append(\"присідання\")\n",
    "    all_good = False\n",
    "if time_3 < 12:\n",
    "    bad.append(\"удари руками\")\n",
    "    all_good = False\n",
    "bad = \", \".join(bad)\n",
    "\n",
    "if all_good:\n",
    "    print(\"\", \"Ви гарно впорались з розминкою, приємного тренування!\", sep=\"\\n\")\n",
    "else:\n",
    "    print(\"\", \"Ваша розминка ще не закінчена, вам потрібно краще зробити {}.\".format(bad), sep=\"\\n\")\n",
    "\n",
    "sys.stdout = original_stdout\n",
    "file_report_fit.close()"
   ],
   "metadata": {
    "collapsed": false,
    "pycharm": {
     "name": "#%%\n"
    }
   }
  }
 ],
 "metadata": {
  "kernelspec": {
   "display_name": "Python 3",
   "language": "python",
   "name": "python3"
  },
  "language_info": {
   "codemirror_mode": {
    "name": "ipython",
    "version": 2
   },
   "file_extension": ".py",
   "mimetype": "text/x-python",
   "name": "python",
   "nbconvert_exporter": "python",
   "pygments_lexer": "ipython2",
   "version": "2.7.6"
  }
 },
 "nbformat": 4,
 "nbformat_minor": 0
}